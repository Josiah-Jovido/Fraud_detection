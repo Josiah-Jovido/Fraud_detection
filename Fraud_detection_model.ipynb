{
 "cells": [
  {
   "cell_type": "code",
   "execution_count": 1,
   "metadata": {},
   "outputs": [],
   "source": [
    "import numpy as np\n",
    "import pandas as pd\n",
    "import matplotlib.pyplot as plt\n",
    "import seaborn as sns\n",
    "from sklearn.model_selection import train_test_split\n",
    "from sklearn.tree import DecisionTreeClassifier\n",
    "from sklearn import metrics\n",
    "from sklearn.tree import plot_tree"
   ]
  },
  {
   "cell_type": "code",
   "execution_count": 2,
   "metadata": {},
   "outputs": [
    {
     "data": {
      "text/html": [
       "<div>\n",
       "<style scoped>\n",
       "    .dataframe tbody tr th:only-of-type {\n",
       "        vertical-align: middle;\n",
       "    }\n",
       "\n",
       "    .dataframe tbody tr th {\n",
       "        vertical-align: top;\n",
       "    }\n",
       "\n",
       "    .dataframe thead th {\n",
       "        text-align: right;\n",
       "    }\n",
       "</style>\n",
       "<table border=\"1\" class=\"dataframe\">\n",
       "  <thead>\n",
       "    <tr style=\"text-align: right;\">\n",
       "      <th></th>\n",
       "      <th>step</th>\n",
       "      <th>type</th>\n",
       "      <th>amount</th>\n",
       "      <th>nameOrig</th>\n",
       "      <th>oldbalanceOrg</th>\n",
       "      <th>newbalanceOrig</th>\n",
       "      <th>nameDest</th>\n",
       "      <th>oldbalanceDest</th>\n",
       "      <th>newbalanceDest</th>\n",
       "      <th>isFraud</th>\n",
       "      <th>isFlaggedFraud</th>\n",
       "    </tr>\n",
       "  </thead>\n",
       "  <tbody>\n",
       "    <tr>\n",
       "      <th>0</th>\n",
       "      <td>1</td>\n",
       "      <td>PAYMENT</td>\n",
       "      <td>9839.64</td>\n",
       "      <td>C1231006815</td>\n",
       "      <td>170136.0</td>\n",
       "      <td>160296.36</td>\n",
       "      <td>M1979787155</td>\n",
       "      <td>0.0</td>\n",
       "      <td>0.0</td>\n",
       "      <td>0</td>\n",
       "      <td>0</td>\n",
       "    </tr>\n",
       "    <tr>\n",
       "      <th>1</th>\n",
       "      <td>1</td>\n",
       "      <td>PAYMENT</td>\n",
       "      <td>1864.28</td>\n",
       "      <td>C1666544295</td>\n",
       "      <td>21249.0</td>\n",
       "      <td>19384.72</td>\n",
       "      <td>M2044282225</td>\n",
       "      <td>0.0</td>\n",
       "      <td>0.0</td>\n",
       "      <td>0</td>\n",
       "      <td>0</td>\n",
       "    </tr>\n",
       "    <tr>\n",
       "      <th>2</th>\n",
       "      <td>1</td>\n",
       "      <td>TRANSFER</td>\n",
       "      <td>181.00</td>\n",
       "      <td>C1305486145</td>\n",
       "      <td>181.0</td>\n",
       "      <td>0.00</td>\n",
       "      <td>C553264065</td>\n",
       "      <td>0.0</td>\n",
       "      <td>0.0</td>\n",
       "      <td>1</td>\n",
       "      <td>0</td>\n",
       "    </tr>\n",
       "    <tr>\n",
       "      <th>3</th>\n",
       "      <td>1</td>\n",
       "      <td>CASH_OUT</td>\n",
       "      <td>181.00</td>\n",
       "      <td>C840083671</td>\n",
       "      <td>181.0</td>\n",
       "      <td>0.00</td>\n",
       "      <td>C38997010</td>\n",
       "      <td>21182.0</td>\n",
       "      <td>0.0</td>\n",
       "      <td>1</td>\n",
       "      <td>0</td>\n",
       "    </tr>\n",
       "    <tr>\n",
       "      <th>4</th>\n",
       "      <td>1</td>\n",
       "      <td>PAYMENT</td>\n",
       "      <td>11668.14</td>\n",
       "      <td>C2048537720</td>\n",
       "      <td>41554.0</td>\n",
       "      <td>29885.86</td>\n",
       "      <td>M1230701703</td>\n",
       "      <td>0.0</td>\n",
       "      <td>0.0</td>\n",
       "      <td>0</td>\n",
       "      <td>0</td>\n",
       "    </tr>\n",
       "  </tbody>\n",
       "</table>\n",
       "</div>"
      ],
      "text/plain": [
       "   step      type    amount     nameOrig  oldbalanceOrg  newbalanceOrig  \\\n",
       "0     1   PAYMENT   9839.64  C1231006815       170136.0       160296.36   \n",
       "1     1   PAYMENT   1864.28  C1666544295        21249.0        19384.72   \n",
       "2     1  TRANSFER    181.00  C1305486145          181.0            0.00   \n",
       "3     1  CASH_OUT    181.00   C840083671          181.0            0.00   \n",
       "4     1   PAYMENT  11668.14  C2048537720        41554.0        29885.86   \n",
       "\n",
       "      nameDest  oldbalanceDest  newbalanceDest  isFraud  isFlaggedFraud  \n",
       "0  M1979787155             0.0             0.0        0               0  \n",
       "1  M2044282225             0.0             0.0        0               0  \n",
       "2   C553264065             0.0             0.0        1               0  \n",
       "3    C38997010         21182.0             0.0        1               0  \n",
       "4  M1230701703             0.0             0.0        0               0  "
      ]
     },
     "execution_count": 2,
     "metadata": {},
     "output_type": "execute_result"
    }
   ],
   "source": [
    "df = pd.read_csv('fraud_data.csv')\n",
    "df.head()"
   ]
  },
  {
   "cell_type": "code",
   "execution_count": 3,
   "metadata": {},
   "outputs": [
    {
     "data": {
      "text/plain": [
       "(6362620, 11)"
      ]
     },
     "execution_count": 3,
     "metadata": {},
     "output_type": "execute_result"
    }
   ],
   "source": [
    "df.shape"
   ]
  },
  {
   "cell_type": "markdown",
   "metadata": {},
   "source": [
    "#### Correcting inconsistency in column name"
   ]
  },
  {
   "cell_type": "code",
   "execution_count": 4,
   "metadata": {},
   "outputs": [
    {
     "data": {
      "text/html": [
       "<div>\n",
       "<style scoped>\n",
       "    .dataframe tbody tr th:only-of-type {\n",
       "        vertical-align: middle;\n",
       "    }\n",
       "\n",
       "    .dataframe tbody tr th {\n",
       "        vertical-align: top;\n",
       "    }\n",
       "\n",
       "    .dataframe thead th {\n",
       "        text-align: right;\n",
       "    }\n",
       "</style>\n",
       "<table border=\"1\" class=\"dataframe\">\n",
       "  <thead>\n",
       "    <tr style=\"text-align: right;\">\n",
       "      <th></th>\n",
       "      <th>step</th>\n",
       "      <th>type</th>\n",
       "      <th>amount</th>\n",
       "      <th>nameOrig</th>\n",
       "      <th>oldbalanceOrig</th>\n",
       "      <th>newbalanceOrig</th>\n",
       "      <th>nameDest</th>\n",
       "      <th>oldbalanceDest</th>\n",
       "      <th>newbalanceDest</th>\n",
       "      <th>isFraud</th>\n",
       "      <th>isFlaggedFraud</th>\n",
       "    </tr>\n",
       "  </thead>\n",
       "  <tbody>\n",
       "    <tr>\n",
       "      <th>0</th>\n",
       "      <td>1</td>\n",
       "      <td>PAYMENT</td>\n",
       "      <td>9839.64</td>\n",
       "      <td>C1231006815</td>\n",
       "      <td>170136.0</td>\n",
       "      <td>160296.36</td>\n",
       "      <td>M1979787155</td>\n",
       "      <td>0.0</td>\n",
       "      <td>0.0</td>\n",
       "      <td>0</td>\n",
       "      <td>0</td>\n",
       "    </tr>\n",
       "    <tr>\n",
       "      <th>1</th>\n",
       "      <td>1</td>\n",
       "      <td>PAYMENT</td>\n",
       "      <td>1864.28</td>\n",
       "      <td>C1666544295</td>\n",
       "      <td>21249.0</td>\n",
       "      <td>19384.72</td>\n",
       "      <td>M2044282225</td>\n",
       "      <td>0.0</td>\n",
       "      <td>0.0</td>\n",
       "      <td>0</td>\n",
       "      <td>0</td>\n",
       "    </tr>\n",
       "    <tr>\n",
       "      <th>2</th>\n",
       "      <td>1</td>\n",
       "      <td>TRANSFER</td>\n",
       "      <td>181.00</td>\n",
       "      <td>C1305486145</td>\n",
       "      <td>181.0</td>\n",
       "      <td>0.00</td>\n",
       "      <td>C553264065</td>\n",
       "      <td>0.0</td>\n",
       "      <td>0.0</td>\n",
       "      <td>1</td>\n",
       "      <td>0</td>\n",
       "    </tr>\n",
       "    <tr>\n",
       "      <th>3</th>\n",
       "      <td>1</td>\n",
       "      <td>CASH_OUT</td>\n",
       "      <td>181.00</td>\n",
       "      <td>C840083671</td>\n",
       "      <td>181.0</td>\n",
       "      <td>0.00</td>\n",
       "      <td>C38997010</td>\n",
       "      <td>21182.0</td>\n",
       "      <td>0.0</td>\n",
       "      <td>1</td>\n",
       "      <td>0</td>\n",
       "    </tr>\n",
       "    <tr>\n",
       "      <th>4</th>\n",
       "      <td>1</td>\n",
       "      <td>PAYMENT</td>\n",
       "      <td>11668.14</td>\n",
       "      <td>C2048537720</td>\n",
       "      <td>41554.0</td>\n",
       "      <td>29885.86</td>\n",
       "      <td>M1230701703</td>\n",
       "      <td>0.0</td>\n",
       "      <td>0.0</td>\n",
       "      <td>0</td>\n",
       "      <td>0</td>\n",
       "    </tr>\n",
       "  </tbody>\n",
       "</table>\n",
       "</div>"
      ],
      "text/plain": [
       "   step      type    amount     nameOrig  oldbalanceOrig  newbalanceOrig  \\\n",
       "0     1   PAYMENT   9839.64  C1231006815        170136.0       160296.36   \n",
       "1     1   PAYMENT   1864.28  C1666544295         21249.0        19384.72   \n",
       "2     1  TRANSFER    181.00  C1305486145           181.0            0.00   \n",
       "3     1  CASH_OUT    181.00   C840083671           181.0            0.00   \n",
       "4     1   PAYMENT  11668.14  C2048537720         41554.0        29885.86   \n",
       "\n",
       "      nameDest  oldbalanceDest  newbalanceDest  isFraud  isFlaggedFraud  \n",
       "0  M1979787155             0.0             0.0        0               0  \n",
       "1  M2044282225             0.0             0.0        0               0  \n",
       "2   C553264065             0.0             0.0        1               0  \n",
       "3    C38997010         21182.0             0.0        1               0  \n",
       "4  M1230701703             0.0             0.0        0               0  "
      ]
     },
     "execution_count": 4,
     "metadata": {},
     "output_type": "execute_result"
    }
   ],
   "source": [
    "df = df.rename(columns={'oldbalanceOrg':'oldbalanceOrig'})\n",
    "df.head()"
   ]
  },
  {
   "cell_type": "markdown",
   "metadata": {},
   "source": [
    "#### The columns are:\n",
    "* **step:** A timestamp / date variable that has been made arbitrary for data privacy.\n",
    "* **type:** The type of transaction. type is our only categorical independent variable. Categories include [cash_in, cash_out, debit, payment, transfer].\n",
    "* **amount:** Size of transaction.\n",
    "* Next 6 columns are account level info:\n",
    "  * Suffix **Orig** refers to the originating account of the transaction.\n",
    "  * Suffix **Dest** refers to destination account of the transaction.\n",
    "  * Prefix **name** refers to Account ID number. An 'M' prefix, e.g. 'M1979...' denotes a merchant account. The name will not be directly used as a model feature, although we can extract the merchant prefix to create a boolean indicator variable. One thing to note is that balance data is not available for merchants. For merchants, the placeholder value for balances is zero.\n",
    "  * Prefix **oldbalance** refers to account balance before transaction.\n",
    "  * Prefix **newbalance** refers to account balance after transaction (and also great pair of shoes!)\n",
    "* **isFraud:** Our label / dependent variable—whether the transaction was made by a fraudulent agent. 1 for fraudulent, 0 for not fraudulent.\n",
    "* **isFlaggedFraud:** Whether the transaction was flagged as fraud by the \"business model\". Since we are doing our own prediction here, we will ignore this variable."
   ]
  },
  {
   "cell_type": "markdown",
   "metadata": {},
   "source": [
    "#### Missing data\n"
   ]
  },
  {
   "cell_type": "code",
   "execution_count": 5,
   "metadata": {},
   "outputs": [
    {
     "data": {
      "text/plain": [
       "step              0\n",
       "type              0\n",
       "amount            0\n",
       "nameOrig          0\n",
       "oldbalanceOrig    0\n",
       "newbalanceOrig    0\n",
       "nameDest          0\n",
       "oldbalanceDest    0\n",
       "newbalanceDest    0\n",
       "isFraud           0\n",
       "isFlaggedFraud    0\n",
       "dtype: int64"
      ]
     },
     "execution_count": 5,
     "metadata": {},
     "output_type": "execute_result"
    }
   ],
   "source": [
    "df.isnull().sum()"
   ]
  },
  {
   "cell_type": "code",
   "execution_count": 6,
   "metadata": {},
   "outputs": [
    {
     "data": {
      "text/plain": [
       "False"
      ]
     },
     "execution_count": 6,
     "metadata": {},
     "output_type": "execute_result"
    }
   ],
   "source": [
    "df.isnull().values.any()"
   ]
  },
  {
   "cell_type": "markdown",
   "metadata": {},
   "source": [
    "As we can see from our analysis above, there are no missing values in the dataset."
   ]
  },
  {
   "cell_type": "markdown",
   "metadata": {},
   "source": [
    "#### Data Imbalance\n",
    "As is often the case with fraud data like this, the dataset is highly imbalanced. Over 99.8% of the transaction records are non-fraudulent. Because only a tiny fraction of the dataset represents fraud, fraudulent transactions are likely to be under-represented in our model. If unaddressed, data imbalance can cause issues, such as misleading accuracy metrics in the model. The model may attempt to label every transaction as non-fraudulent, and since any randomly given transaction is highly likely to be non-fraudulent, a high accuracy will be reported, despite incorrectly classifying all fraudulent transactions as non-fraudulent. We should take care to compare model performance metrics considering fraudulent and non-fraudulent data independently."
   ]
  },
  {
   "cell_type": "code",
   "execution_count": 7,
   "metadata": {},
   "outputs": [
    {
     "name": "stdout",
     "output_type": "stream",
     "text": [
      "The proportion of total transactions labeled as fraudulent is 0.001290820448180152\n"
     ]
    }
   ],
   "source": [
    "print('The proportion of total transactions labeled as fraudulent is',df['isFraud'].value_counts()[1]/df['isFraud'].size)"
   ]
  },
  {
   "cell_type": "code",
   "execution_count": 8,
   "metadata": {},
   "outputs": [
    {
     "data": {
      "text/plain": [
       "0    6354407\n",
       "1       8213\n",
       "Name: isFraud, dtype: int64"
      ]
     },
     "execution_count": 8,
     "metadata": {},
     "output_type": "execute_result"
    },
    {
     "data": {
      "image/png": "[encoded data removed]",
      "text/plain": [
       "<Figure size 432x288 with 1 Axes>"
      ]
     },
     "metadata": {
      "needs_background": "light"
     },
     "output_type": "display_data"
    }
   ],
   "source": [
    "df['isFraud'].value_counts().plot(kind='bar')\n",
    "df['isFraud'].value_counts()"
   ]
  },
  {
   "cell_type": "markdown",
   "metadata": {},
   "source": [
    "#### Analyzing the features\n",
    "Step\n",
    "\n",
    "**step** is our time variable. Most transactions occur in the first half of our time sample range."
   ]
  },
  {
   "cell_type": "code",
   "execution_count": 9,
   "metadata": {},
   "outputs": [
    {
     "data": {
      "text/plain": [
       "<AxesSubplot:>"
      ]
     },
     "execution_count": 9,
     "metadata": {},
     "output_type": "execute_result"
    },
    {
     "data": {
      "image/png": "[encoded data removed]",
      "text/plain": [
       "<Figure size 432x288 with 1 Axes>"
      ]
     },
     "metadata": {
      "needs_background": "light"
     },
     "output_type": "display_data"
    }
   ],
   "source": [
    "df['step'].hist()"
   ]
  },
  {
   "cell_type": "markdown",
   "metadata": {},
   "source": [
    "**Amount**\n",
    "\n",
    "Amounts are skewed right—the vast majority of transactions are low amounts."
   ]
  },
  {
   "cell_type": "code",
   "execution_count": 10,
   "metadata": {},
   "outputs": [
    {
     "data": {
      "text/plain": [
       "<AxesSubplot:xlabel='amount', ylabel='Count'>"
      ]
     },
     "execution_count": 10,
     "metadata": {},
     "output_type": "execute_result"
    },
    {
     "data": {
      "image/png": "[encoded data removed]",
      "text/plain": [
       "<Figure size 432x288 with 1 Axes>"
      ]
     },
     "metadata": {
      "needs_background": "light"
     },
     "output_type": "display_data"
    }
   ],
   "source": [
    "sns.histplot(data=df['amount'], bins=30)"
   ]
  },
  {
   "cell_type": "code",
   "execution_count": 11,
   "metadata": {},
   "outputs": [
    {
     "name": "stdout",
     "output_type": "stream",
     "text": [
      "The average transaction amount is 179861.90354912292\n"
     ]
    }
   ],
   "source": [
    "print('The average transaction amount is',df['amount'].mean())"
   ]
  },
  {
   "cell_type": "markdown",
   "metadata": {},
   "source": [
    "**Type**\n",
    "\n",
    "For transaction type, cash withdrawals and payment transactions are the most common, while transfers and debits make up a smaller fraction of the data."
   ]
  },
  {
   "cell_type": "code",
   "execution_count": 12,
   "metadata": {},
   "outputs": [
    {
     "data": {
      "text/plain": [
       "<AxesSubplot:>"
      ]
     },
     "execution_count": 12,
     "metadata": {},
     "output_type": "execute_result"
    },
    {
     "data": {
      "image/png": "[encoded data removed]",
      "text/plain": [
       "<Figure size 432x288 with 1 Axes>"
      ]
     },
     "metadata": {
      "needs_background": "light"
     },
     "output_type": "display_data"
    }
   ],
   "source": [
    "df['type'].value_counts().plot(kind='barh')"
   ]
  },
  {
   "cell_type": "markdown",
   "metadata": {},
   "source": [
    "**oldbalanceOrg, newbalanceOrig, oldbalanceDest, newbalanceDest**\n",
    "\n",
    "Balance numbers show patterns similar to amount, i.e. heavily skewed to the right. We will touch on correlation between these variables next."
   ]
  },
  {
   "cell_type": "code",
   "execution_count": 13,
   "metadata": {},
   "outputs": [
    {
     "data": {
      "text/plain": [
       "array([[<AxesSubplot:title={'center':'oldbalanceOrig'}>,\n",
       "        <AxesSubplot:title={'center':'newbalanceOrig'}>],\n",
       "       [<AxesSubplot:title={'center':'oldbalanceDest'}>,\n",
       "        <AxesSubplot:title={'center':'newbalanceDest'}>]], dtype=object)"
      ]
     },
     "execution_count": 13,
     "metadata": {},
     "output_type": "execute_result"
    },
    {
     "data": {
      "image/png": "[encoded data removed]",
      "text/plain": [
       "<Figure size 432x288 with 4 Axes>"
      ]
     },
     "metadata": {
      "needs_background": "light"
     },
     "output_type": "display_data"
    }
   ],
   "source": [
    "df[['oldbalanceOrig','newbalanceOrig','oldbalanceDest','newbalanceDest']].hist(bins=30)"
   ]
  },
  {
   "cell_type": "code",
   "execution_count": 14,
   "metadata": {},
   "outputs": [
    {
     "name": "stdout",
     "output_type": "stream",
     "text": [
      "Average balance values:\n",
      "oldbalanceOrig    833883.10\n",
      "newbalanceOrig    855113.67\n",
      "oldbalanceDest   1100701.67\n",
      "newbalanceDest   1224996.40\n",
      "dtype: float64\n"
     ]
    }
   ],
   "source": [
    "print('Average balance values:')\n",
    "\n",
    "with pd.option_context('display.float_format','{:.2f}'.format):\n",
    "    print(df[['oldbalanceOrig','newbalanceOrig','oldbalanceDest','newbalanceDest']].mean())"
   ]
  },
  {
   "cell_type": "markdown",
   "metadata": {},
   "source": [
    "#### Correlation\n",
    "Let's look at correlation between the independent variables."
   ]
  },
  {
   "cell_type": "code",
   "execution_count": 15,
   "metadata": {},
   "outputs": [
    {
     "data": {
      "text/plain": [
       "<AxesSubplot:>"
      ]
     },
     "execution_count": 15,
     "metadata": {},
     "output_type": "execute_result"
    },
    {
     "data": {
      "image/png": "[encoded data removed]",
      "text/plain": [
       "<Figure size 432x288 with 2 Axes>"
      ]
     },
     "metadata": {
      "needs_background": "light"
     },
     "output_type": "display_data"
    }
   ],
   "source": [
    "corr = df.corr()\n",
    "sns.heatmap(corr, xticklabels=corr.columns.values, yticklabels=corr.columns.values)"
   ]
  },
  {
   "cell_type": "markdown",
   "metadata": {},
   "source": [
    "Given an account, **oldbalance** and **newbalance** are highly correlated with each other. That makes sense, because transaction amounts are typically a small proportion of account balances. In other words, account balances have high correlations with themselves.\n",
    "\n",
    "What's odd is that while **amount** has some correlation with **oldbalanceDest** and **newbalanceDest**, it has very low correlations with **oldbalanceOrig** and **newbalanceOrig**. Let's check pairwise scatterplots for these variables, starting with amount vs. oldbalanceOrig and newbalanceOrig."
   ]
  },
  {
   "cell_type": "code",
   "execution_count": 16,
   "metadata": {},
   "outputs": [
    {
     "name": "stderr",
     "output_type": "stream",
     "text": [
      "<ipython-input-16-689f8cadf543>:8: UserWarning: Matplotlib is currently using module://ipykernel.pylab.backend_inline, which is a non-GUI backend, so cannot show the figure.\n",
      "  fig.show()\n"
     ]
    },
    {
     "data": {
      "image/png": "[encoded data removed]",
      "text/plain": [
       "<Figure size 432x288 with 2 Axes>"
      ]
     },
     "metadata": {
      "needs_background": "light"
     },
     "output_type": "display_data"
    }
   ],
   "source": [
    "fig, ax = plt.subplots(1,2)\n",
    "\n",
    "ax[0].set_xlim([-10,100])\n",
    "\n",
    "sns.scatterplot(data=df, x='oldbalanceOrig', y='amount', ax=ax[0])\n",
    "sns.scatterplot(data=df, x='newbalanceOrig', y='amount', ax=ax[1])\n",
    "\n",
    "fig.show()"
   ]
  },
  {
   "cell_type": "markdown",
   "metadata": {},
   "source": [
    "Some interesting patterns here. There is a notably high frequency of transactions with the amount of exactly 10,000,000."
   ]
  },
  {
   "cell_type": "markdown",
   "metadata": {},
   "source": [
    "There are also quite a few transactions where the amount is greater than 10,000,000, along the left edge of the scatter plots. These transactions are exclusively transfers where the destination account receives the change of the transaction amount and the originating account field has zero balance. None of these transactions are labeled as fraudulent."
   ]
  },
  {
   "cell_type": "code",
   "execution_count": 17,
   "metadata": {},
   "outputs": [
    {
     "data": {
      "text/plain": [
       "TRANSFER    2443\n",
       "Name: type, dtype: int64"
      ]
     },
     "execution_count": 17,
     "metadata": {},
     "output_type": "execute_result"
    }
   ],
   "source": [
    "df[df['amount']>10000000]['type'].value_counts()"
   ]
  },
  {
   "cell_type": "markdown",
   "metadata": {},
   "source": [
    "Checking if any of these amounts are fraudulent"
   ]
  },
  {
   "cell_type": "code",
   "execution_count": 18,
   "metadata": {},
   "outputs": [
    {
     "data": {
      "text/plain": [
       "0    2443\n",
       "Name: isFraud, dtype: int64"
      ]
     },
     "execution_count": 18,
     "metadata": {},
     "output_type": "execute_result"
    }
   ],
   "source": [
    "df[df['amount']>10000000]['isFraud'].value_counts()"
   ]
  },
  {
   "cell_type": "markdown",
   "metadata": {},
   "source": [
    "As we can see from the analysis above, none of the transfer transactions are fraudulent"
   ]
  },
  {
   "cell_type": "code",
   "execution_count": 19,
   "metadata": {},
   "outputs": [
    {
     "data": {
      "application/javascript": [
       "require.config({\n",
       "    paths: {\n",
       "        datatables: 'https://cdn.datatables.net/1.10.19/js/jquery.dataTables.min',\n",
       "    }\n",
       "});\n",
       "\n",
       "$('head').append('<link rel=\"stylesheet\" type=\"text/css\" \\\n",
       "                href = \"https://cdn.datatables.net/1.10.19/css/jquery.dataTables.min.css\" > ');\n",
       "\n",
       "$('head').append('<style> table td { text-overflow: ellipsis; overflow: hidden; } </style>');\n",
       "\n",
       "$('head').append(`<script>\n",
       "function eval_functions(map_or_text) {\n",
       "    if (typeof map_or_text === \"string\") {\n",
       "        if (map_or_text.startsWith(\"function\")) {\n",
       "            try {\n",
       "                // Note: parenthesis are required around the whole expression for eval to return a value!\n",
       "                // See https://stackoverflow.com/a/7399078/911298.\n",
       "                //\n",
       "                // eval(\"local_fun = \" + map_or_text) would fail because local_fun is not declared\n",
       "                // (using var, let or const would work, but it would only be declared in the local scope\n",
       "                // and therefore the value could not be retrieved).\n",
       "                const func = eval(\"(\" + map_or_text + \")\");\n",
       "                if (typeof func !== \"function\") {\n",
       "                    // Note: backquotes are super convenient!\n",
       "                    // https://developer.mozilla.org/en-US/docs/Web/JavaScript/Reference/Template_literals\n",
       "                    console.error(\"Evaluated expression \" + map_or_text + \" is not a function (type is \" + typeof func + \")\");\n",
       "                    return map_or_text;\n",
       "                }\n",
       "                // Return the function\n",
       "                return func;\n",
       "            } catch (e) {\n",
       "                // Make sure to print the error with a second argument to console.error().\n",
       "                console.error(\"itables was not able to parse \" + map_or_text, e);\n",
       "            }\n",
       "        }\n",
       "    } else if (typeof map_or_text === \"object\") {\n",
       "        if (map_or_text instanceof Array) {\n",
       "            // Note: \"var\" is now superseded by \"let\" and \"const\".\n",
       "            // https://medium.com/javascript-scene/javascript-es6-var-let-or-const-ba58b8dcde75\n",
       "            const result = [];\n",
       "            // Note: \"for of\" is the best way to iterate through an iterable.\n",
       "            // https://developer.mozilla.org/en-US/docs/Web/JavaScript/Reference/Statements/for...of\n",
       "            for (const item of map_or_text) {\n",
       "                result.push(eval_functions(item));\n",
       "            }\n",
       "            return result;\n",
       "\n",
       "            // Alternatively, more functional approach in one line:\n",
       "            // return map_or_text.map(eval_functions);\n",
       "        } else {\n",
       "            const result = {};\n",
       "            // Object.keys() is safer than \"for in\" because otherwise you might have keys\n",
       "            // that aren't defined in the object itself.\n",
       "            //\n",
       "            // See https://stackoverflow.com/a/684692/911298.\n",
       "            for (const item of Object.keys(map_or_text)) {\n",
       "                result[item] = eval_functions(map_or_text[item]);\n",
       "            }\n",
       "            return result;\n",
       "        }\n",
       "    }\n",
       "\n",
       "    return map_or_text;\n",
       "}\n",
       "\n",
       "</` + 'script>');"
      ],
      "text/plain": [
       "<IPython.core.display.Javascript object>"
      ]
     },
     "metadata": {},
     "output_type": "display_data"
    },
    {
     "name": "stderr",
     "output_type": "stream",
     "text": [
      "WARNING:itables.downsample:showing 1221x5 of 2443x11 as nbytes=214984>65536=maxBytes. See https://mwouts.github.io/itables/#downsampling\n"
     ]
    },
    {
     "data": {
      "text/html": [
       "<div><table id=\"8ddd4d38-225f-43a6-bb14-c59b206f403d\" class=\"display\"><thead>\n",
       "    <tr style=\"text-align: right;\">\n",
       "      <th></th>\n",
       "      <th>step</th>\n",
       "      <th>type</th>\n",
       "      <th>amount</th>\n",
       "      <th>isFraud</th>\n",
       "      <th>isFlaggedFraud</th>\n",
       "    </tr>\n",
       "  </thead></table>\n",
       "<script type=\"text/javascript\">\n",
       "require([\"datatables\"], function (datatables) {\n",
       "    $(document).ready(function () {\n",
       "        var dt_args = {\"columnDefs\": [{\"width\": \"70px\", \"targets\": \"_all\"}], \"data\": [[3591182, 262, \"TRANSFER\", 23695249.33, 0, 0], [3592661, 262, \"TRANSFER\", 14291816.93, 0, 0], [3610921, 267, \"TRANSFER\", 24288781.97, 0, 0], [3611293, 273, \"TRANSFER\", 11376816.99, 0, 0], [3611622, 273, \"TRANSFER\", 35797147.01, 0, 0], [3623211, 274, \"TRANSFER\", 47463371.62, 0, 0], [3623212, 274, \"TRANSFER\", 20846520.61, 0, 0], [3627566, 274, \"TRANSFER\", 35085968.43, 0, 0], [3627567, 274, \"TRANSFER\", 16333338.44, 0, 0], [3633292, 274, \"TRANSFER\", 18049592.66, 0, 0], [3633676, 274, \"TRANSFER\", 25052383.24, 0, 0], [3635657, 274, \"TRANSFER\", 50556773.92, 0, 0], [3635969, 274, \"TRANSFER\", 16344447.92, 0, 0], [3635970, 274, \"TRANSFER\", 33565429.67, 0, 0], [3638375, 275, \"TRANSFER\", 11697915.93, 0, 0], [3638376, 275, \"TRANSFER\", 16701548.48, 0, 0], [3638882, 275, \"TRANSFER\", 20751830.53, 0, 0], [3638883, 275, \"TRANSFER\", 32893689.19, 0, 0], [3646349, 275, \"TRANSFER\", 16198917.18, 0, 0], [3646350, 275, \"TRANSFER\", 25346513.97, 0, 0], [3652212, 275, \"TRANSFER\", 13995824.54, 0, 0], [3654689, 275, \"TRANSFER\", 15525380.28, 0, 0], [3657220, 275, \"TRANSFER\", 11330258.86, 0, 0], [3657221, 275, \"TRANSFER\", 29748471.36, 0, 0], [3661234, 275, \"TRANSFER\", 30331814.43, 0, 0], [3661290, 275, \"TRANSFER\", 15140533.17, 0, 0], [3665665, 276, \"TRANSFER\", 26078945.85, 0, 0], [3666841, 276, \"TRANSFER\", 16418135.57, 0, 0], [3667291, 276, \"TRANSFER\", 38771796.97, 0, 0], [3668458, 276, \"TRANSFER\", 16344175.86, 0, 0], [3668459, 276, \"TRANSFER\", 10002376.11, 0, 0], [3669541, 276, \"TRANSFER\", 16244227.2, 0, 0], [3670351, 276, \"TRANSFER\", 25191626.41, 0, 0], [3670703, 276, \"TRANSFER\", 29979433.73, 0, 0], [3670704, 276, \"TRANSFER\", 14562273.12, 0, 0], [3671360, 276, \"TRANSFER\", 19548290.53, 0, 0], [3672138, 276, \"TRANSFER\", 18191635.03, 0, 0], [3672139, 276, \"TRANSFER\", 12059367.31, 0, 0], [3672172, 276, \"TRANSFER\", 33634827.65, 0, 0], [3673290, 276, \"TRANSFER\", 15355748.18, 0, 0], [3674938, 276, \"TRANSFER\", 13681755.83, 0, 0], [3678043, 276, \"TRANSFER\", 18134694.74, 0, 0], [3679250, 276, \"TRANSFER\", 13374840.49, 0, 0], [3681711, 276, \"TRANSFER\", 27249961.03, 0, 0], [3682190, 276, \"TRANSFER\", 60965275.64, 0, 0], [3682191, 276, \"TRANSFER\", 18557757.81, 0, 0], [3684267, 276, \"TRANSFER\", 58944752.64, 0, 0], [3684268, 276, \"TRANSFER\", 11537186.92, 0, 0], [3684588, 276, \"TRANSFER\", 18151044.81, 0, 0], [3684589, 276, \"TRANSFER\", 10417909.49, 0, 0], [3685941, 276, \"TRANSFER\", 23870399.92, 0, 0], [3686583, 276, \"TRANSFER\", 92445516.64, 0, 0], [3688600, 276, \"TRANSFER\", 11196139.9, 0, 0], [3688601, 276, \"TRANSFER\", 17731100.67, 0, 0], [3688966, 276, \"TRANSFER\", 21920942.25, 0, 0], [3688967, 276, \"TRANSFER\", 12230166.44, 0, 0], [3690136, 277, \"TRANSFER\", 26721084.9, 0, 0], [3695069, 277, \"TRANSFER\", 15388732.36, 0, 0], [3695181, 277, \"TRANSFER\", 53957543.97, 0, 0], [3695182, 277, \"TRANSFER\", 19578638.81, 0, 0], [3696690, 277, \"TRANSFER\", 19840273.38, 0, 0], [3697867, 277, \"TRANSFER\", 11203744.37, 0, 0], [3697990, 277, \"TRANSFER\", 35271872.52, 0, 0], [3698901, 277, \"TRANSFER\", 16201420.47, 0, 0], [3698902, 277, \"TRANSFER\", 15931774.03, 0, 0], [3700189, 277, \"TRANSFER\", 27986074.15, 0, 0], [3700190, 277, \"TRANSFER\", 15939175.02, 0, 0], [3700244, 277, \"TRANSFER\", 26901118.7, 0, 0], [3700245, 277, \"TRANSFER\", 14818418.92, 0, 0], [3700832, 277, \"TRANSFER\", 14257304.11, 0, 0], [3700987, 277, \"TRANSFER\", 11997712.98, 0, 0], [3700988, 277, \"TRANSFER\", 15565195.61, 0, 0], [3702130, 277, \"TRANSFER\", 20502835.9, 0, 0], [3703250, 277, \"TRANSFER\", 28363974.79, 0, 0], [3703675, 277, \"TRANSFER\", 20159150.94, 0, 0], [3703676, 277, \"TRANSFER\", 18577539.69, 0, 0], [3705054, 277, \"TRANSFER\", 31762947.76, 0, 0], [3705055, 277, \"TRANSFER\", 15239204.89, 0, 0], [3707201, 277, \"TRANSFER\", 13673099.17, 0, 0], [3708200, 277, \"TRANSFER\", 15144194.92, 0, 0], [3710726, 277, \"TRANSFER\", 16893750.83, 0, 0], [3713440, 277, \"TRANSFER\", 17642105.3, 0, 0], [3715594, 278, \"TRANSFER\", 24529853.28, 0, 0], [3715595, 278, \"TRANSFER\", 12334550.2, 0, 0], [3717145, 278, \"TRANSFER\", 16393386.11, 0, 0], [3717686, 278, \"TRANSFER\", 11264727.91, 0, 0], [3717687, 278, \"TRANSFER\", 16046589.76, 0, 0], [3719183, 278, \"TRANSFER\", 10533976.74, 0, 0], [3719184, 278, \"TRANSFER\", 15786062.84, 0, 0], [3719289, 278, \"TRANSFER\", 14014460.95, 0, 0], [3720471, 278, \"TRANSFER\", 25817534.79, 0, 0], [3720472, 278, \"TRANSFER\", 12677638.3, 0, 0], [3721954, 278, \"TRANSFER\", 15169330.4, 0, 0], [3721955, 278, \"TRANSFER\", 14013267.71, 0, 0], [3726689, 278, \"TRANSFER\", 10763498.27, 0, 0], [3726763, 278, \"TRANSFER\", 25430475.84, 0, 0], [3728178, 278, \"TRANSFER\", 12668129.48, 0, 0], [3732166, 278, \"TRANSFER\", 15567177.89, 0, 0], [3732463, 278, \"TRANSFER\", 13508450.04, 0, 0], [3733256, 278, \"TRANSFER\", 11613071.77, 0, 0], [3733545, 278, \"TRANSFER\", 60154456.05, 0, 0], [3733546, 278, \"TRANSFER\", 16706094.57, 0, 0], [3735445, 278, \"TRANSFER\", 16581465.58, 0, 0], [3735446, 278, \"TRANSFER\", 12575179.78, 0, 0], [3736210, 278, \"TRANSFER\", 10502674.93, 0, 0], [3737628, 278, \"TRANSFER\", 30850541.98, 0, 0], [3740892, 278, \"TRANSFER\", 32896750.63, 0, 0], [3741769, 279, \"TRANSFER\", 12587763.53, 0, 0], [3742401, 279, \"TRANSFER\", 15754332.47, 0, 0], [3742402, 279, \"TRANSFER\", 15642925.24, 0, 0], [3742609, 279, \"TRANSFER\", 36946551.76, 0, 0], [3743182, 279, \"TRANSFER\", 27626977.27, 0, 0], [3747400, 279, \"TRANSFER\", 32713935.3, 0, 0], [3747401, 279, \"TRANSFER\", 24170374.01, 0, 0], [3748418, 279, \"TRANSFER\", 29581699.45, 0, 0], [3748419, 279, \"TRANSFER\", 13291592.82, 0, 0], [3749259, 279, \"TRANSFER\", 10227704.17, 0, 0], [3749260, 279, \"TRANSFER\", 16682731.66, 0, 0], [3749660, 279, \"TRANSFER\", 18321135.79, 0, 0], [3750711, 279, \"TRANSFER\", 56808983.21, 0, 0], [3750972, 279, \"TRANSFER\", 41963708.15, 0, 0], [3750973, 279, \"TRANSFER\", 10981519.63, 0, 0], [3752733, 279, \"TRANSFER\", 23648914.29, 0, 0], [3754018, 279, \"TRANSFER\", 21743040.01, 0, 0], [3754019, 279, \"TRANSFER\", 21429362.14, 0, 0], [3755846, 279, \"TRANSFER\", 46211920.92, 0, 0], [3755951, 279, \"TRANSFER\", 18054022.54, 0, 0], [3755977, 279, \"TRANSFER\", 49380263.91, 0, 0], [3755978, 279, \"TRANSFER\", 15902751.65, 0, 0], [3757065, 279, \"TRANSFER\", 21058476.5, 0, 0], [3758463, 279, \"TRANSFER\", 10148855.53, 0, 0], [3758464, 279, \"TRANSFER\", 16120312.35, 0, 0], [3759492, 279, \"TRANSFER\", 40576871.68, 0, 0], [3759535, 279, \"TRANSFER\", 24056844.64, 0, 0], [3760993, 279, \"TRANSFER\", 33785599.39, 0, 0], [3762461, 279, \"TRANSFER\", 37448116.09, 0, 0], [3763135, 279, \"TRANSFER\", 31886745.04, 0, 0], [3764665, 279, \"TRANSFER\", 10835859.55, 0, 0], [3766398, 279, \"TRANSFER\", 19805003.04, 0, 0], [3766883, 280, \"TRANSFER\", 24407185.51, 0, 0], [3767146, 280, \"TRANSFER\", 18231691.76, 0, 0], [3771432, 280, \"TRANSFER\", 18734900.42, 0, 0], [3771897, 280, \"TRANSFER\", 23952715.38, 0, 0], [3773032, 280, \"TRANSFER\", 12376715.88, 0, 0], [3774449, 280, \"TRANSFER\", 15229794.58, 0, 0], [3777713, 280, \"TRANSFER\", 28685824.81, 0, 0], [3778564, 280, \"TRANSFER\", 37503549.74, 0, 0], [3779136, 280, \"TRANSFER\", 28389755.25, 0, 0], [3779671, 280, \"TRANSFER\", 29248713.79, 0, 0], [3779729, 280, \"TRANSFER\", 16757491.18, 0, 0], [3779730, 280, \"TRANSFER\", 17906931.76, 0, 0], [3781615, 280, \"TRANSFER\", 17390223.52, 0, 0], [3781696, 280, \"TRANSFER\", 23568486.71, 0, 0], [3781922, 280, \"TRANSFER\", 16679640.5, 0, 0], [3782844, 280, \"TRANSFER\", 37151106.23, 0, 0], [3783266, 280, \"TRANSFER\", 23142856.42, 0, 0], [3783267, 280, \"TRANSFER\", 22956000.63, 0, 0], [3783925, 280, \"TRANSFER\", 10326120.94, 0, 0], [3785342, 280, \"TRANSFER\", 14073010.12, 0, 0], [3785871, 280, \"TRANSFER\", 16870826.67, 0, 0], [3785872, 280, \"TRANSFER\", 14689586.32, 0, 0], [3786298, 280, \"TRANSFER\", 22641968.26, 0, 0], [3786299, 280, \"TRANSFER\", 25762819.08, 0, 0], [3787727, 280, \"TRANSFER\", 14329378.43, 0, 0], [3787728, 280, \"TRANSFER\", 11106913.59, 0, 0], [3789534, 280, \"TRANSFER\", 17213729.4, 0, 0], [3790059, 280, \"TRANSFER\", 20009723.99, 0, 0], [3791459, 280, \"TRANSFER\", 17781800.03, 0, 0], [3793471, 281, \"TRANSFER\", 13615650.88, 0, 0], [3794772, 281, \"TRANSFER\", 18759763.9, 0, 0], [3795435, 281, \"TRANSFER\", 18580807.07, 0, 0], [3795436, 281, \"TRANSFER\", 39725690.2, 0, 0], [3795531, 281, \"TRANSFER\", 18111983.25, 0, 0], [3795532, 281, \"TRANSFER\", 14733965.06, 0, 0], [3795691, 281, \"TRANSFER\", 17772449.45, 0, 0], [3796065, 281, \"TRANSFER\", 37386095.77, 0, 0], [3796414, 281, \"TRANSFER\", 28895882.53, 0, 0], [3796415, 281, \"TRANSFER\", 30583732.28, 0, 0], [3798258, 281, \"TRANSFER\", 21701961.98, 0, 0], [3798409, 281, \"TRANSFER\", 16113881.4, 0, 0], [3799316, 281, \"TRANSFER\", 24838537.77, 0, 0], [3799317, 281, \"TRANSFER\", 15960347.69, 0, 0], [3799893, 281, \"TRANSFER\", 52042803.47, 0, 0], [3799894, 281, \"TRANSFER\", 13812351.28, 0, 0], [3799942, 281, \"TRANSFER\", 21122955.46, 0, 0], [3801347, 281, \"TRANSFER\", 57436619.46, 0, 0], [3801348, 281, \"TRANSFER\", 10483850.34, 0, 0], [3802039, 281, \"TRANSFER\", 12176636.84, 0, 0], [3802364, 281, \"TRANSFER\", 40639589.17, 0, 0], [3802994, 281, \"TRANSFER\", 24485437.08, 0, 0], [3809158, 281, \"TRANSFER\", 10033239.47, 0, 0], [3809159, 281, \"TRANSFER\", 25161783.54, 0, 0], [3811039, 281, \"TRANSFER\", 17735332.62, 0, 0], [3811040, 281, \"TRANSFER\", 14571864.72, 0, 0], [3811163, 281, \"TRANSFER\", 33751577.04, 0, 0], [3811228, 281, \"TRANSFER\", 24666618.17, 0, 0], [3812248, 281, \"TRANSFER\", 34124526.94, 0, 0], [3812249, 281, \"TRANSFER\", 29395971.14, 0, 0], [3812826, 281, \"TRANSFER\", 23058819.42, 0, 0], [3812827, 281, \"TRANSFER\", 22349827.12, 0, 0], [3814882, 281, \"TRANSFER\", 16762204.0, 0, 0], [3815327, 281, \"TRANSFER\", 15354822.43, 0, 0], [3815328, 281, \"TRANSFER\", 15643466.65, 0, 0], [3815797, 281, \"TRANSFER\", 33181827.02, 0, 0], [3815798, 281, \"TRANSFER\", 13221291.77, 0, 0], [3816443, 281, \"TRANSFER\", 27859319.82, 0, 0], [3816552, 281, \"TRANSFER\", 34051286.39, 0, 0], [3816553, 281, \"TRANSFER\", 13532720.03, 0, 0], [3821448, 282, \"TRANSFER\", 25418474.17, 0, 0], [3822230, 282, \"TRANSFER\", 30069049.94, 0, 0], [3822700, 282, \"TRANSFER\", 16790352.67, 0, 0], [3825305, 282, \"TRANSFER\", 11586890.21, 0, 0], [3825306, 282, \"TRANSFER\", 16792005.83, 0, 0], [3825685, 282, \"TRANSFER\", 10883118.63, 0, 0], [3826205, 282, \"TRANSFER\", 14056577.33, 0, 0], [3827188, 282, \"TRANSFER\", 35352166.34, 0, 0], [3827189, 282, \"TRANSFER\", 20677518.07, 0, 0], [3827423, 282, \"TRANSFER\", 16932178.77, 0, 0], [3827424, 282, \"TRANSFER\", 19436240.78, 0, 0], [3827932, 282, \"TRANSFER\", 12257582.41, 0, 0], [3828773, 282, \"TRANSFER\", 40562026.03, 0, 0], [3828774, 282, \"TRANSFER\", 15181014.03, 0, 0], [3828823, 282, \"TRANSFER\", 14406339.56, 0, 0], [3830151, 282, \"TRANSFER\", 21368280.88, 0, 0], [3831590, 282, \"TRANSFER\", 35819853.11, 0, 0], [3831900, 282, \"TRANSFER\", 24124382.64, 0, 0], [3831901, 282, \"TRANSFER\", 11125013.28, 0, 0], [3832750, 282, \"TRANSFER\", 40891132.65, 0, 0], [3833121, 282, \"TRANSFER\", 20860526.08, 0, 0], [3833122, 282, \"TRANSFER\", 13124053.34, 0, 0], [3833218, 282, \"TRANSFER\", 12162482.02, 0, 0], [3833219, 282, \"TRANSFER\", 14289673.5, 0, 0], [3834387, 282, \"TRANSFER\", 28361919.68, 0, 0], [3834388, 282, \"TRANSFER\", 12080715.37, 0, 0], [3835289, 282, \"TRANSFER\", 53920358.88, 0, 0], [3835290, 282, \"TRANSFER\", 11330319.03, 0, 0], [3835889, 282, \"TRANSFER\", 11942142.89, 0, 0], [3835890, 282, \"TRANSFER\", 15433989.3, 0, 0], [3836048, 282, \"TRANSFER\", 37595238.58, 0, 0], [3836049, 282, \"TRANSFER\", 11143272.82, 0, 0], [3836318, 282, \"TRANSFER\", 20946809.02, 0, 0], [3836932, 282, \"TRANSFER\", 13260574.8, 0, 0], [3836933, 282, \"TRANSFER\", 24750883.08, 0, 0], [3837199, 282, \"TRANSFER\", 32278941.07, 0, 0], [3837909, 282, \"TRANSFER\", 17079683.18, 0, 0], [3838267, 282, \"TRANSFER\", 18207805.44, 0, 0], [3838728, 282, \"TRANSFER\", 19509934.02, 0, 0], [3839626, 282, \"TRANSFER\", 21500679.08, 0, 0], [3839999, 282, \"TRANSFER\", 37618204.8, 0, 0], [3840000, 282, \"TRANSFER\", 22994514.76, 0, 0], [3841769, 282, \"TRANSFER\", 11485212.25, 0, 0], [3841770, 282, \"TRANSFER\", 18392114.5, 0, 0], [3841893, 282, \"TRANSFER\", 24392853.38, 0, 0], [3842062, 282, \"TRANSFER\", 14680785.2, 0, 0], [3842646, 282, \"TRANSFER\", 35848706.42, 0, 0], [3842664, 282, \"TRANSFER\", 21003350.41, 0, 0], [3843120, 282, \"TRANSFER\", 10373558.89, 0, 0], [3843121, 282, \"TRANSFER\", 17392612.08, 0, 0], [3846931, 282, \"TRANSFER\", 17844413.69, 0, 0], [3849465, 282, \"TRANSFER\", 17015811.5, 0, 0], [3849653, 282, \"TRANSFER\", 44757554.09, 0, 0], [3849654, 282, \"TRANSFER\", 15197405.76, 0, 0], [3850856, 282, \"TRANSFER\", 20978187.74, 0, 0], [3851602, 282, \"TRANSFER\", 12216604.67, 0, 0], [3853685, 283, \"TRANSFER\", 15409779.56, 0, 0], [3853737, 283, \"TRANSFER\", 20397581.94, 0, 0], [3853738, 283, \"TRANSFER\", 14215384.63, 0, 0], [3853995, 283, \"TRANSFER\", 35664282.83, 0, 0], [3854363, 283, \"TRANSFER\", 30970840.59, 0, 0], [3854614, 283, \"TRANSFER\", 16766348.76, 0, 0], [3855324, 283, \"TRANSFER\", 33954171.2, 0, 0], [3856510, 283, \"TRANSFER\", 17244543.18, 0, 0], [3856960, 283, \"TRANSFER\", 31251397.65, 0, 0], [3856961, 283, \"TRANSFER\", 10877741.57, 0, 0], [3857427, 283, \"TRANSFER\", 11610932.02, 0, 0], [3857903, 283, \"TRANSFER\", 20744469.66, 0, 0], [3857904, 283, \"TRANSFER\", 12680663.3, 0, 0], [3859322, 283, \"TRANSFER\", 10822477.95, 0, 0], [3859607, 283, \"TRANSFER\", 59579503.33, 0, 0], [3860000, 283, \"TRANSFER\", 11787108.91, 0, 0], [3862074, 283, \"TRANSFER\", 32175719.9, 0, 0], [3864129, 283, \"TRANSFER\", 56951424.46, 0, 0], [3864130, 283, \"TRANSFER\", 17299521.93, 0, 0], [3864325, 283, \"TRANSFER\", 38206729.93, 0, 0], [3864326, 283, \"TRANSFER\", 20024142.21, 0, 0], [3864368, 283, \"TRANSFER\", 11094737.8, 0, 0], [3864369, 283, \"TRANSFER\", 12010443.98, 0, 0], [3864452, 283, \"TRANSFER\", 14326897.18, 0, 0], [3864641, 283, \"TRANSFER\", 25457350.28, 0, 0], [3864642, 283, \"TRANSFER\", 27962248.25, 0, 0], [3865583, 283, \"TRANSFER\", 25938566.02, 0, 0], [3865584, 283, \"TRANSFER\", 25107947.96, 0, 0], [3867126, 283, \"TRANSFER\", 15552136.74, 0, 0], [3867477, 283, \"TRANSFER\", 34539092.93, 0, 0], [3867478, 283, \"TRANSFER\", 36973901.85, 0, 0], [3867969, 283, \"TRANSFER\", 18898942.34, 0, 0], [3867970, 283, \"TRANSFER\", 16851884.12, 0, 0], [3868972, 283, \"TRANSFER\", 11261214.44, 0, 0], [3870534, 283, \"TRANSFER\", 20187682.27, 0, 0], [3871571, 283, \"TRANSFER\", 14861734.21, 0, 0], [3871572, 283, \"TRANSFER\", 14542671.97, 0, 0], [3871630, 283, \"TRANSFER\", 16604133.19, 0, 0], [3871662, 283, \"TRANSFER\", 18624468.84, 0, 0], [3873118, 283, \"TRANSFER\", 13330308.34, 0, 0], [3873284, 283, \"TRANSFER\", 10146300.53, 0, 0], [3873285, 283, \"TRANSFER\", 14256676.95, 0, 0], [3874938, 283, \"TRANSFER\", 43746302.68, 0, 0], [3874966, 283, \"TRANSFER\", 14156884.34, 0, 0], [3875275, 283, \"TRANSFER\", 26614100.55, 0, 0], [3876557, 283, \"TRANSFER\", 32828130.33, 0, 0], [3876558, 283, \"TRANSFER\", 13400392.65, 0, 0], [3878110, 283, \"TRANSFER\", 44125125.22, 0, 0], [3880286, 283, \"TRANSFER\", 34459697.52, 0, 0], [3880661, 283, \"TRANSFER\", 49203983.59, 0, 0], [3881374, 283, \"TRANSFER\", 18958342.71, 0, 0], [3882436, 283, \"TRANSFER\", 22378835.11, 0, 0], [3882437, 283, \"TRANSFER\", 35787720.39, 0, 0], [3882495, 283, \"TRANSFER\", 20775595.59, 0, 0], [3882680, 283, \"TRANSFER\", 22936329.93, 0, 0], [3884500, 283, \"TRANSFER\", 21726741.78, 0, 0], [3884517, 283, \"TRANSFER\", 12021471.87, 0, 0], [3884518, 283, \"TRANSFER\", 29488807.58, 0, 0], [3884562, 283, \"TRANSFER\", 25164587.29, 0, 0], [3884563, 283, \"TRANSFER\", 29322769.76, 0, 0], [3884612, 283, \"TRANSFER\", 10582800.33, 0, 0], [3884822, 283, \"TRANSFER\", 13079449.24, 0, 0], [3884823, 283, \"TRANSFER\", 13229209.13, 0, 0], [3885272, 283, \"TRANSFER\", 35578478.92, 0, 0], [3886250, 283, \"TRANSFER\", 11119667.19, 0, 0], [3888065, 283, \"TRANSFER\", 15028493.03, 0, 0], [3888066, 283, \"TRANSFER\", 15668498.62, 0, 0], [3888277, 283, \"TRANSFER\", 38991659.4, 0, 0], [3888278, 283, \"TRANSFER\", 13992816.36, 0, 0], [3889634, 284, \"TRANSFER\", 19659343.25, 0, 0], [3889635, 284, \"TRANSFER\", 34656395.33, 0, 0], [3889814, 284, \"TRANSFER\", 22279423.34, 0, 0], [3890100, 284, \"TRANSFER\", 27579051.48, 0, 0], [3890101, 284, \"TRANSFER\", 14534408.68, 0, 0], [3890725, 284, \"TRANSFER\", 54561579.68, 0, 0], [3891384, 284, \"TRANSFER\", 24927214.1, 0, 0], [3892529, 284, \"TRANSFER\", 64234448.19, 0, 0], [3892663, 284, \"TRANSFER\", 13431928.94, 0, 0], [3892980, 284, \"TRANSFER\", 15488604.7, 0, 0], [3893012, 284, \"TRANSFER\", 32154739.72, 0, 0], [3893013, 284, \"TRANSFER\", 10037452.78, 0, 0], [3894561, 284, \"TRANSFER\", 31140982.87, 0, 0], [3894770, 284, \"TRANSFER\", 31632609.45, 0, 0], [3894771, 284, \"TRANSFER\", 21139818.26, 0, 0], [3896401, 284, \"TRANSFER\", 15361752.69, 0, 0], [3896886, 284, \"TRANSFER\", 47980266.33, 0, 0], [3896887, 284, \"TRANSFER\", 21127899.13, 0, 0], [3897277, 284, \"TRANSFER\", 33411243.26, 0, 0], [3897348, 284, \"TRANSFER\", 24745770.42, 0, 0], [3898574, 284, \"TRANSFER\", 46714461.77, 0, 0], [3898575, 284, \"TRANSFER\", 23448789.78, 0, 0], [3899862, 284, \"TRANSFER\", 31925067.54, 0, 0], [3900050, 284, \"TRANSFER\", 12719539.06, 0, 0], [3900051, 284, \"TRANSFER\", 32747152.75, 0, 0], [3900427, 284, \"TRANSFER\", 12929324.59, 0, 0], [3900871, 284, \"TRANSFER\", 15633636.69, 0, 0], [3902778, 284, \"TRANSFER\", 13100458.52, 0, 0], [3905004, 284, \"TRANSFER\", 14673274.84, 0, 0], [3906306, 284, \"TRANSFER\", 28044905.96, 0, 0], [3906307, 284, \"TRANSFER\", 10320904.45, 0, 0], [3907165, 284, \"TRANSFER\", 12731933.46, 0, 0], [3907328, 284, \"TRANSFER\", 26522532.52, 0, 0], [3907329, 284, \"TRANSFER\", 16695609.2, 0, 0], [3907695, 284, \"TRANSFER\", 12031729.34, 0, 0], [3907696, 284, \"TRANSFER\", 11940570.22, 0, 0], [3909963, 284, \"TRANSFER\", 23682324.52, 0, 0], [3909964, 284, \"TRANSFER\", 16670022.85, 0, 0], [3910320, 284, \"TRANSFER\", 19075539.96, 0, 0], [3910583, 284, \"TRANSFER\", 35535682.52, 0, 0], [3910584, 284, \"TRANSFER\", 17145239.68, 0, 0], [3911094, 284, \"TRANSFER\", 33069661.46, 0, 0], [3911095, 284, \"TRANSFER\", 16343610.93, 0, 0], [3911647, 284, \"TRANSFER\", 17068121.39, 0, 0], [3911648, 284, \"TRANSFER\", 10260159.01, 0, 0], [3911956, 284, \"TRANSFER\", 69337316.27, 0, 0], [3911957, 284, \"TRANSFER\", 16964304.22, 0, 0], [3912773, 284, \"TRANSFER\", 24098448.46, 0, 0], [3913088, 284, \"TRANSFER\", 23689215.64, 0, 0], [3913394, 284, \"TRANSFER\", 15596035.38, 0, 0], [3913395, 284, \"TRANSFER\", 12653781.97, 0, 0], [3913558, 284, \"TRANSFER\", 21076583.11, 0, 0], [3913732, 284, \"TRANSFER\", 13005466.49, 0, 0], [3913733, 284, \"TRANSFER\", 17223914.14, 0, 0], [3913811, 284, \"TRANSFER\", 48035924.46, 0, 0], [3913812, 284, \"TRANSFER\", 12781122.15, 0, 0], [3913950, 284, \"TRANSFER\", 25786525.63, 0, 0], [3914026, 284, \"TRANSFER\", 16170363.17, 0, 0], [3914854, 284, \"TRANSFER\", 17901982.98, 0, 0], [3916718, 284, \"TRANSFER\", 18481642.16, 0, 0], [3917702, 284, \"TRANSFER\", 40351145.29, 0, 0], [3917703, 284, \"TRANSFER\", 17503959.09, 0, 0], [3918457, 284, \"TRANSFER\", 13167339.11, 0, 0], [3918513, 284, \"TRANSFER\", 11667612.81, 0, 0], [3918679, 284, \"TRANSFER\", 15995953.81, 0, 0], [3919268, 284, \"TRANSFER\", 17024559.77, 0, 0], [3919269, 284, \"TRANSFER\", 15389336.94, 0, 0], [3919657, 284, \"TRANSFER\", 15657556.18, 0, 0], [3919658, 284, \"TRANSFER\", 25406663.97, 0, 0], [3920261, 284, \"TRANSFER\", 36090712.11, 0, 0], [3920332, 284, \"TRANSFER\", 15420309.33, 0, 0], [3920333, 284, \"TRANSFER\", 13669954.36, 0, 0], [3921422, 284, \"TRANSFER\", 16625126.92, 0, 0], [3921423, 284, \"TRANSFER\", 30564814.84, 0, 0], [3921458, 284, \"TRANSFER\", 20454978.16, 0, 0], [3921620, 284, \"TRANSFER\", 47542583.98, 0, 0], [3921621, 284, \"TRANSFER\", 10648650.16, 0, 0], [3922773, 285, \"TRANSFER\", 12337967.42, 0, 0], [3924714, 285, \"TRANSFER\", 23904480.99, 0, 0], [3925415, 285, \"TRANSFER\", 22247418.92, 0, 0], [3926641, 285, \"TRANSFER\", 10029201.62, 0, 0], [3927704, 285, \"TRANSFER\", 35898999.64, 0, 0], [3927705, 285, \"TRANSFER\", 17483897.26, 0, 0], [3928879, 285, \"TRANSFER\", 11834953.8, 0, 0], [3928923, 285, \"TRANSFER\", 34785046.69, 0, 0], [3928990, 285, \"TRANSFER\", 20128696.42, 0, 0], [3929246, 285, \"TRANSFER\", 12633214.15, 0, 0], [3929513, 285, \"TRANSFER\", 39018162.18, 0, 0], [3930061, 285, \"TRANSFER\", 14466445.72, 0, 0], [3930074, 285, \"TRANSFER\", 18645194.69, 0, 0], [3930301, 285, \"TRANSFER\", 29774652.28, 0, 0], [3930348, 285, \"TRANSFER\", 10947438.59, 0, 0], [3930395, 285, \"TRANSFER\", 46714620.46, 0, 0], [3930396, 285, \"TRANSFER\", 16269212.27, 0, 0], [3930576, 285, \"TRANSFER\", 49866234.71, 0, 0], [3930577, 285, \"TRANSFER\", 19883057.81, 0, 0], [3930750, 285, \"TRANSFER\", 19643796.31, 0, 0], [3931058, 285, \"TRANSFER\", 21743897.35, 0, 0], [3931059, 285, \"TRANSFER\", 22768890.97, 0, 0], [3932473, 285, \"TRANSFER\", 43143717.48, 0, 0], [3932474, 285, \"TRANSFER\", 14952384.84, 0, 0], [3933461, 285, \"TRANSFER\", 21607489.63, 0, 0], [3933462, 285, \"TRANSFER\", 16436927.84, 0, 0], [3933737, 285, \"TRANSFER\", 14599526.19, 0, 0], [3933738, 285, \"TRANSFER\", 29205882.12, 0, 0], [3933769, 285, \"TRANSFER\", 26296872.4, 0, 0], [3933770, 285, \"TRANSFER\", 10482159.11, 0, 0], [3934026, 285, \"TRANSFER\", 11602335.26, 0, 0], [3934249, 285, \"TRANSFER\", 60642003.0, 0, 0], [3935387, 285, \"TRANSFER\", 48932770.05, 0, 0], [3935388, 285, \"TRANSFER\", 18415257.51, 0, 0], [3935647, 285, \"TRANSFER\", 31150194.51, 0, 0], [3935685, 285, \"TRANSFER\", 29161080.08, 0, 0], [3936020, 285, \"TRANSFER\", 16701398.6, 0, 0], [3936021, 285, \"TRANSFER\", 10640201.76, 0, 0], [3936562, 286, \"TRANSFER\", 13979938.68, 0, 0], [3936766, 286, \"TRANSFER\", 23479726.99, 0, 0], [3937152, 286, \"TRANSFER\", 67500761.29, 0, 0], [3937153, 286, \"TRANSFER\", 20199871.3, 0, 0], [3937297, 286, \"TRANSFER\", 33510864.84, 0, 0], [3937562, 286, \"TRANSFER\", 15786442.9, 0, 0], [3937563, 286, \"TRANSFER\", 36819298.63, 0, 0], [3937839, 286, \"TRANSFER\", 38531861.57, 0, 0], [3938196, 286, \"TRANSFER\", 30442028.47, 0, 0], [3940527, 286, \"TRANSFER\", 16160916.11, 0, 0], [3940644, 286, \"TRANSFER\", 26904754.91, 0, 0], [3941239, 286, \"TRANSFER\", 41550102.96, 0, 0], [3941240, 286, \"TRANSFER\", 10190900.57, 0, 0], [3941900, 286, \"TRANSFER\", 51496952.25, 0, 0], [3941901, 286, \"TRANSFER\", 29725181.85, 0, 0], [3941935, 286, \"TRANSFER\", 15349330.65, 0, 0], [3941936, 286, \"TRANSFER\", 11953025.44, 0, 0], [3943328, 286, \"TRANSFER\", 12670593.2, 0, 0], [3944104, 286, \"TRANSFER\", 10361667.81, 0, 0], [3944908, 286, \"TRANSFER\", 16686476.23, 0, 0], [3944909, 286, \"TRANSFER\", 11997765.63, 0, 0], [3946485, 286, \"TRANSFER\", 36788481.69, 0, 0], [3946486, 286, \"TRANSFER\", 12357645.11, 0, 0], [3946735, 286, \"TRANSFER\", 24663758.13, 0, 0], [3946829, 286, \"TRANSFER\", 28792687.74, 0, 0], [3946898, 286, \"TRANSFER\", 16134314.81, 0, 0], [3946920, 286, \"TRANSFER\", 69886731.3, 0, 0], [3947118, 286, \"TRANSFER\", 23420639.58, 0, 0], [3947119, 286, \"TRANSFER\", 14591051.76, 0, 0], [3948191, 287, \"TRANSFER\", 16972485.36, 0, 0], [3948192, 287, \"TRANSFER\", 11432713.25, 0, 0], [3948508, 287, \"TRANSFER\", 55129569.83, 0, 0], [3948509, 287, \"TRANSFER\", 21981396.61, 0, 0], [3949506, 287, \"TRANSFER\", 19717018.35, 0, 0], [3949731, 287, \"TRANSFER\", 10307676.65, 0, 0], [3950053, 287, \"TRANSFER\", 14691140.68, 0, 0], [3950054, 287, \"TRANSFER\", 12375689.05, 0, 0], [3951026, 287, \"TRANSFER\", 18435779.8, 0, 0], [3951372, 287, \"TRANSFER\", 13296666.7, 0, 0], [3951373, 287, \"TRANSFER\", 30314416.0, 0, 0], [3951787, 287, \"TRANSFER\", 34662648.59, 0, 0], [3951788, 287, \"TRANSFER\", 10746654.43, 0, 0], [3951824, 287, \"TRANSFER\", 12467165.9, 0, 0], [3952388, 287, \"TRANSFER\", 12995346.88, 0, 0], [3952420, 287, \"TRANSFER\", 38929156.6, 0, 0], [3953202, 287, \"TRANSFER\", 20830601.68, 0, 0], [3953203, 287, \"TRANSFER\", 16427257.96, 0, 0], [3953226, 287, \"TRANSFER\", 11445203.11, 0, 0], [3953740, 287, \"TRANSFER\", 13628355.45, 0, 0], [3953888, 287, \"TRANSFER\", 51391814.47, 0, 0], [3954748, 288, \"TRANSFER\", 25102618.63, 0, 0], [3955287, 288, \"TRANSFER\", 37127946.05, 0, 0], [3955288, 288, \"TRANSFER\", 12859200.97, 0, 0], [3955554, 288, \"TRANSFER\", 23842918.59, 0, 0], [3956686, 288, \"TRANSFER\", 17224726.94, 0, 0], [3956777, 288, \"TRANSFER\", 12745729.19, 0, 0], [3956778, 288, \"TRANSFER\", 22888796.0, 0, 0], [3956915, 288, \"TRANSFER\", 30752968.19, 0, 0], [3956916, 288, \"TRANSFER\", 18243781.33, 0, 0], [3957015, 288, \"TRANSFER\", 13761588.8, 0, 0], [3957077, 288, \"TRANSFER\", 10819702.17, 0, 0], [3957078, 288, \"TRANSFER\", 34768753.65, 0, 0], [3957750, 288, \"TRANSFER\", 12401181.59, 0, 0], [3957926, 288, \"TRANSFER\", 12616090.01, 0, 0], [3957927, 288, \"TRANSFER\", 21137131.93, 0, 0], [3958045, 288, \"TRANSFER\", 14458741.23, 0, 0], [3958073, 288, \"TRANSFER\", 19009425.23, 0, 0], [3958769, 289, \"TRANSFER\", 23330626.98, 0, 0], [3959156, 289, \"TRANSFER\", 20948803.05, 0, 0], [3959171, 289, \"TRANSFER\", 10958178.21, 0, 0], [3960277, 291, \"TRANSFER\", 28617438.58, 0, 0], [3960962, 297, \"TRANSFER\", 14124818.58, 0, 0], [3962258, 297, \"TRANSFER\", 31479113.67, 0, 0], [3962259, 297, \"TRANSFER\", 14421733.58, 0, 0], [3963205, 297, \"TRANSFER\", 21593544.57, 0, 0], [3963206, 297, \"TRANSFER\", 27928767.84, 0, 0], [3963398, 297, \"TRANSFER\", 37753298.86, 0, 0], [3963647, 297, \"TRANSFER\", 23496309.32, 0, 0], [3963648, 297, \"TRANSFER\", 12722343.18, 0, 0], [3963723, 297, \"TRANSFER\", 32339590.66, 0, 0], [3963724, 297, \"TRANSFER\", 15193493.58, 0, 0], [3964690, 297, \"TRANSFER\", 10201153.43, 0, 0], [3964691, 297, \"TRANSFER\", 16670855.26, 0, 0], [3965211, 297, \"TRANSFER\", 33050378.39, 0, 0], [3965212, 297, \"TRANSFER\", 19823147.61, 0, 0], [3965226, 297, \"TRANSFER\", 10236347.66, 0, 0], [3965379, 297, \"TRANSFER\", 18294358.0, 0, 0], [3966068, 297, \"TRANSFER\", 28932912.91, 0, 0], [3966069, 297, \"TRANSFER\", 30884197.78, 0, 0], [3966172, 297, \"TRANSFER\", 36680906.28, 0, 0], [3966173, 297, \"TRANSFER\", 25990087.35, 0, 0], [3966361, 297, \"TRANSFER\", 26703530.41, 0, 0], [3966416, 297, \"TRANSFER\", 19274627.55, 0, 0], [3966471, 297, \"TRANSFER\", 15822130.17, 0, 0], [3967544, 297, \"TRANSFER\", 47107862.46, 0, 0], [3967545, 297, \"TRANSFER\", 10947358.37, 0, 0], [3967968, 297, \"TRANSFER\", 53612432.52, 0, 0], [3968079, 297, \"TRANSFER\", 23217833.48, 0, 0], [3968080, 297, \"TRANSFER\", 13111611.09, 0, 0], [3969236, 297, \"TRANSFER\", 15149481.41, 0, 0], [3969237, 297, \"TRANSFER\", 25841933.11, 0, 0], [3969459, 297, \"TRANSFER\", 10817627.49, 0, 0], [3969460, 297, \"TRANSFER\", 29354192.57, 0, 0], [3969810, 297, \"TRANSFER\", 25640699.38, 0, 0], [3969811, 297, \"TRANSFER\", 17095746.29, 0, 0], [3970103, 297, \"TRANSFER\", 16615306.77, 0, 0], [3970591, 297, \"TRANSFER\", 34860074.9, 0, 0], [3971441, 297, \"TRANSFER\", 17703176.98, 0, 0], [3972208, 297, \"TRANSFER\", 15137042.56, 0, 0], [3972821, 297, \"TRANSFER\", 14452026.19, 0, 0], [3972822, 297, \"TRANSFER\", 10923643.9, 0, 0], [3973643, 297, \"TRANSFER\", 14346296.68, 0, 0], [3973644, 297, \"TRANSFER\", 23157422.77, 0, 0], [3974044, 297, \"TRANSFER\", 16726009.76, 0, 0], [3974045, 297, \"TRANSFER\", 16123628.32, 0, 0], [3974060, 297, \"TRANSFER\", 10038469.87, 0, 0], [3974061, 297, \"TRANSFER\", 35018808.0, 0, 0], [3974597, 297, \"TRANSFER\", 28205221.17, 0, 0], [3974672, 297, \"TRANSFER\", 12478763.02, 0, 0], [3974673, 297, \"TRANSFER\", 18102644.07, 0, 0], [3974974, 297, \"TRANSFER\", 37099247.65, 0, 0], [3975259, 297, \"TRANSFER\", 20529474.29, 0, 0], [3975450, 297, \"TRANSFER\", 19046855.84, 0, 0], [3975850, 297, \"TRANSFER\", 27084362.42, 0, 0], [3975851, 297, \"TRANSFER\", 25641018.81, 0, 0], [3976618, 297, \"TRANSFER\", 27327325.03, 0, 0], [3976619, 297, \"TRANSFER\", 12937671.47, 0, 0], [3977499, 297, \"TRANSFER\", 24797581.8, 0, 0], [3978539, 297, \"TRANSFER\", 26054999.1, 0, 0], [3980075, 297, \"TRANSFER\", 47288336.09, 0, 0], [3980076, 297, \"TRANSFER\", 15195478.39, 0, 0], [3980217, 297, \"TRANSFER\", 48464778.69, 0, 0], [3980720, 297, \"TRANSFER\", 25625366.53, 0, 0], [3980844, 297, \"TRANSFER\", 13931354.24, 0, 0], [3980845, 297, \"TRANSFER\", 10593229.37, 0, 0], [3981303, 298, \"TRANSFER\", 12110647.06, 0, 0], [3981317, 298, \"TRANSFER\", 11713242.27, 0, 0], [3981587, 298, \"TRANSFER\", 43886668.1, 0, 0], [3981858, 298, \"TRANSFER\", 12631582.19, 0, 0], [3982237, 298, \"TRANSFER\", 23697296.25, 0, 0], [3982238, 298, \"TRANSFER\", 17314510.6, 0, 0], [3983145, 298, \"TRANSFER\", 24959290.63, 0, 0], [3983831, 298, \"TRANSFER\", 30995785.16, 0, 0], [3984135, 298, \"TRANSFER\", 44964012.64, 0, 0], [3984136, 298, \"TRANSFER\", 11494780.67, 0, 0], [3984303, 298, \"TRANSFER\", 27561375.43, 0, 0], [3985212, 298, \"TRANSFER\", 20080047.13, 0, 0], [3985213, 298, \"TRANSFER\", 10735210.14, 0, 0], [3985597, 298, \"TRANSFER\", 23467704.64, 0, 0], [3985598, 298, \"TRANSFER\", 16562451.72, 0, 0], [3987115, 298, \"TRANSFER\", 10031084.73, 0, 0], [3987954, 298, \"TRANSFER\", 16677748.65, 0, 0], [3987955, 298, \"TRANSFER\", 13088305.56, 0, 0], [3988162, 298, \"TRANSFER\", 29203107.01, 0, 0], [3988163, 298, \"TRANSFER\", 36980169.12, 0, 0], [3988291, 298, \"TRANSFER\", 34594407.59, 0, 0], [3988292, 298, \"TRANSFER\", 32348870.41, 0, 0], [3988561, 298, \"TRANSFER\", 11287861.69, 0, 0], [3988562, 298, \"TRANSFER\", 22811945.36, 0, 0], [3991242, 298, \"TRANSFER\", 43458810.55, 0, 0], [3991243, 298, \"TRANSFER\", 17511487.76, 0, 0], [3991638, 298, \"TRANSFER\", 63847992.58, 0, 0], [3991830, 298, \"TRANSFER\", 12220640.81, 0, 0], [4389525, 321, \"TRANSFER\", 13800041.82, 0, 0], [4389620, 321, \"TRANSFER\", 20612016.52, 0, 0], [4389675, 321, \"TRANSFER\", 14235941.29, 0, 0], [4389676, 321, \"TRANSFER\", 12514555.84, 0, 0], [4390187, 321, \"TRANSFER\", 13826464.67, 0, 0], [4391704, 321, \"TRANSFER\", 10567855.0, 0, 0], [4392672, 321, \"TRANSFER\", 12242602.25, 0, 0], [4392808, 321, \"TRANSFER\", 12682117.82, 0, 0], [4393377, 321, \"TRANSFER\", 12304495.56, 0, 0], [4394290, 321, \"TRANSFER\", 11269729.01, 0, 0], [4395957, 321, \"TRANSFER\", 12641396.74, 0, 0], [4395958, 321, \"TRANSFER\", 16674865.4, 0, 0], [4396210, 321, \"TRANSFER\", 14259280.06, 0, 0], [4396421, 321, \"TRANSFER\", 13911701.66, 0, 0], [4396422, 321, \"TRANSFER\", 10070693.24, 0, 0], [4396609, 321, \"TRANSFER\", 23402909.77, 0, 0], [4398346, 321, \"TRANSFER\", 13679668.33, 0, 0], [4398364, 321, \"TRANSFER\", 14636112.87, 0, 0], [4398792, 321, \"TRANSFER\", 13837136.08, 0, 0], [4399546, 321, \"TRANSFER\", 16407991.16, 0, 0], [4399565, 321, \"TRANSFER\", 20458737.16, 0, 0], [4399566, 321, \"TRANSFER\", 12606960.92, 0, 0], [4402227, 321, \"TRANSFER\", 14110780.99, 0, 0], [4402572, 321, \"TRANSFER\", 15074101.27, 0, 0], [4402573, 321, \"TRANSFER\", 33027439.34, 0, 0], [4403712, 321, \"TRANSFER\", 11483700.59, 0, 0], [4403713, 321, \"TRANSFER\", 10768561.9, 0, 0], [4403847, 321, \"TRANSFER\", 14009952.21, 0, 0], [4404996, 321, \"TRANSFER\", 24126508.32, 0, 0], [4405020, 321, \"TRANSFER\", 23407621.44, 0, 0], [4405451, 321, \"TRANSFER\", 10263186.87, 0, 0], [4405497, 321, \"TRANSFER\", 11290020.88, 0, 0], [4407192, 322, \"TRANSFER\", 11041682.12, 0, 0], [4408101, 322, \"TRANSFER\", 21017138.92, 0, 0], [4408242, 322, \"TRANSFER\", 12481435.75, 0, 0], [4408243, 322, \"TRANSFER\", 13529296.74, 0, 0], [4408658, 322, \"TRANSFER\", 21521794.02, 0, 0], [4408803, 322, \"TRANSFER\", 18533952.5, 0, 0], [4409292, 322, \"TRANSFER\", 17276077.51, 0, 0], [4409340, 322, \"TRANSFER\", 15075184.97, 0, 0], [4409891, 322, \"TRANSFER\", 15802612.29, 0, 0], [4410031, 322, \"TRANSFER\", 18325623.37, 0, 0], [4410634, 322, \"TRANSFER\", 12775389.93, 0, 0], [4414031, 322, \"TRANSFER\", 13633766.24, 0, 0], [4414251, 322, \"TRANSFER\", 13143438.91, 0, 0], [4414995, 322, \"TRANSFER\", 10090398.81, 0, 0], [4414996, 322, \"TRANSFER\", 10701292.57, 0, 0], [4415495, 322, \"TRANSFER\", 17945416.73, 0, 0], [4415496, 322, \"TRANSFER\", 11639042.7, 0, 0], [4415780, 322, \"TRANSFER\", 12078609.57, 0, 0], [4416274, 322, \"TRANSFER\", 12730398.71, 0, 0], [4416415, 322, \"TRANSFER\", 17848832.44, 0, 0], [4417232, 322, \"TRANSFER\", 18776610.67, 0, 0], [4417504, 322, \"TRANSFER\", 10550175.95, 0, 0], [4417505, 322, \"TRANSFER\", 16493019.53, 0, 0], [4417742, 322, \"TRANSFER\", 12032104.78, 0, 0], [4417743, 322, \"TRANSFER\", 10965275.51, 0, 0], [4418571, 322, \"TRANSFER\", 12192709.01, 0, 0], [4418640, 322, \"TRANSFER\", 13165662.66, 0, 0], [4419123, 322, \"TRANSFER\", 14270790.56, 0, 0], [4419124, 322, \"TRANSFER\", 11082388.08, 0, 0], [4419834, 322, \"TRANSFER\", 10771616.38, 0, 0], [4420011, 322, \"TRANSFER\", 12268613.64, 0, 0], [4420012, 322, \"TRANSFER\", 12671681.77, 0, 0], [4420252, 322, \"TRANSFER\", 10525878.59, 0, 0], [4420265, 322, \"TRANSFER\", 10759838.77, 0, 0], [4420347, 322, \"TRANSFER\", 14203652.19, 0, 0], [4421096, 322, \"TRANSFER\", 15814527.09, 0, 0], [4422200, 322, \"TRANSFER\", 12914507.01, 0, 0], [4424063, 322, \"TRANSFER\", 10925239.68, 0, 0], [4424741, 322, \"TRANSFER\", 11276930.61, 0, 0], [4425285, 322, \"TRANSFER\", 12421751.53, 0, 0], [4425286, 322, \"TRANSFER\", 31949914.71, 0, 0], [4425325, 322, \"TRANSFER\", 13777314.48, 0, 0], [4425590, 322, \"TRANSFER\", 22046070.66, 0, 0], [4426072, 322, \"TRANSFER\", 17797063.11, 0, 0], [4426384, 322, \"TRANSFER\", 12592604.38, 0, 0], [4426833, 322, \"TRANSFER\", 30884192.9, 0, 0], [4427669, 322, \"TRANSFER\", 19887843.92, 0, 0], [4427670, 322, \"TRANSFER\", 15177003.64, 0, 0], [4427982, 322, \"TRANSFER\", 12275161.12, 0, 0], [4427983, 322, \"TRANSFER\", 22885224.34, 0, 0], [4428917, 322, \"TRANSFER\", 15656620.56, 0, 0], [4429169, 322, \"TRANSFER\", 24072184.13, 0, 0], [4431016, 322, \"TRANSFER\", 11318928.28, 0, 0], [4431017, 322, \"TRANSFER\", 14619643.3, 0, 0], [4431231, 322, \"TRANSFER\", 10870824.72, 0, 0], [4431647, 322, \"TRANSFER\", 10248417.32, 0, 0], [4431893, 322, \"TRANSFER\", 14454430.8, 0, 0], [4432041, 322, \"TRANSFER\", 10985002.32, 0, 0], [4432458, 322, \"TRANSFER\", 12214561.51, 0, 0], [4432459, 322, \"TRANSFER\", 10913402.24, 0, 0], [4432776, 322, \"TRANSFER\", 12022101.21, 0, 0], [4433831, 323, \"TRANSFER\", 12076300.52, 0, 0], [4434965, 323, \"TRANSFER\", 13807174.68, 0, 0], [4435335, 323, \"TRANSFER\", 19669822.63, 0, 0], [4436408, 323, \"TRANSFER\", 14009315.37, 0, 0], [4436756, 323, \"TRANSFER\", 19324848.68, 0, 0], [4437134, 323, \"TRANSFER\", 12818694.29, 0, 0], [4437373, 323, \"TRANSFER\", 15981081.93, 0, 0], [4439223, 323, \"TRANSFER\", 28432633.72, 0, 0], [4440113, 323, \"TRANSFER\", 19042270.05, 0, 0], [4440992, 323, \"TRANSFER\", 16624775.92, 0, 0], [4440993, 323, \"TRANSFER\", 11676055.13, 0, 0], [4441078, 323, \"TRANSFER\", 17406175.41, 0, 0], [4441455, 323, \"TRANSFER\", 14083770.74, 0, 0], [4441794, 323, \"TRANSFER\", 17871966.53, 0, 0], [4441902, 323, \"TRANSFER\", 14512520.62, 0, 0], [4443623, 323, \"TRANSFER\", 10206060.88, 0, 0], [4443724, 323, \"TRANSFER\", 13420262.16, 0, 0], [4444869, 323, \"TRANSFER\", 15648488.26, 0, 0], [4444870, 323, \"TRANSFER\", 11319302.05, 0, 0], [4445111, 323, \"TRANSFER\", 13278678.73, 0, 0], [4445112, 323, \"TRANSFER\", 10016802.33, 0, 0], [4446657, 323, \"TRANSFER\", 11227363.9, 0, 0], [4447845, 323, \"TRANSFER\", 10147567.64, 0, 0], [4447856, 323, \"TRANSFER\", 18602186.13, 0, 0], [4447857, 323, \"TRANSFER\", 22687460.25, 0, 0], [4448416, 323, \"TRANSFER\", 13651683.19, 0, 0], [4448417, 323, \"TRANSFER\", 13673000.83, 0, 0], [4449064, 323, \"TRANSFER\", 10060190.94, 0, 0], [4449065, 323, \"TRANSFER\", 14266172.89, 0, 0], [4450355, 323, \"TRANSFER\", 14068577.37, 0, 0], [4452348, 323, \"TRANSFER\", 14178909.92, 0, 0], [4452853, 323, \"TRANSFER\", 16271828.1, 0, 0], [4452938, 323, \"TRANSFER\", 11124415.54, 0, 0], [4453354, 323, \"TRANSFER\", 17992313.34, 0, 0], [4455104, 323, \"TRANSFER\", 10220044.32, 0, 0], [4455311, 323, \"TRANSFER\", 11028032.37, 0, 0], [4456472, 323, \"TRANSFER\", 26822673.76, 0, 0], [4457113, 323, \"TRANSFER\", 12225901.29, 0, 0], [4457114, 323, \"TRANSFER\", 20724093.65, 0, 0], [4457638, 323, \"TRANSFER\", 20072089.42, 0, 0], [4458906, 323, \"TRANSFER\", 13815844.29, 0, 0], [4458944, 323, \"TRANSFER\", 10316222.26, 0, 0], [4459301, 323, \"TRANSFER\", 11745023.53, 0, 0], [4459302, 323, \"TRANSFER\", 12589109.49, 0, 0], [4459768, 323, \"TRANSFER\", 13320598.72, 0, 0], [4460171, 323, \"TRANSFER\", 14051185.12, 0, 0], [4460617, 323, \"TRANSFER\", 21180950.75, 0, 0], [4460799, 323, \"TRANSFER\", 11726169.08, 0, 0], [4460800, 323, \"TRANSFER\", 16772560.87, 0, 0], [4463958, 324, \"TRANSFER\", 14696121.66, 0, 0], [4463959, 324, \"TRANSFER\", 10975255.51, 0, 0], [4465417, 324, \"TRANSFER\", 18167041.26, 0, 0], [4465471, 324, \"TRANSFER\", 13332128.62, 0, 0], [4468196, 324, \"TRANSFER\", 14714092.27, 0, 0], [4468197, 324, \"TRANSFER\", 18642506.2, 0, 0], [4469261, 324, \"TRANSFER\", 12535708.58, 0, 0], [4469694, 324, \"TRANSFER\", 10722674.96, 0, 0], [4470052, 324, \"TRANSFER\", 11168873.7, 0, 0], [4470820, 324, \"TRANSFER\", 10845136.99, 0, 0], [4470821, 324, \"TRANSFER\", 15202210.25, 0, 0], [4472148, 324, \"TRANSFER\", 15066124.32, 0, 0], [4472176, 324, \"TRANSFER\", 28039443.31, 0, 0], [4472441, 324, \"TRANSFER\", 10046160.12, 0, 0], [4472667, 324, \"TRANSFER\", 10012627.96, 0, 0], [4474109, 324, \"TRANSFER\", 24185366.55, 0, 0], [4474890, 324, \"TRANSFER\", 11475760.16, 0, 0], [4474891, 324, \"TRANSFER\", 15403445.1, 0, 0], [4475024, 324, \"TRANSFER\", 19161181.23, 0, 0], [4476322, 324, \"TRANSFER\", 12543584.39, 0, 0], [4479634, 324, \"TRANSFER\", 17473206.23, 0, 0], [4479932, 324, \"TRANSFER\", 18715737.94, 0, 0], [4480052, 324, \"TRANSFER\", 18852700.22, 0, 0], [4480151, 324, \"TRANSFER\", 16914983.11, 0, 0], [4480387, 324, \"TRANSFER\", 15275739.49, 0, 0], [4480388, 324, \"TRANSFER\", 12941646.12, 0, 0], [4480667, 324, \"TRANSFER\", 10850977.83, 0, 0], [4481981, 324, \"TRANSFER\", 14052800.58, 0, 0], [4481982, 324, \"TRANSFER\", 10632766.77, 0, 0], [4483361, 324, \"TRANSFER\", 11120020.52, 0, 0], [4483584, 324, \"TRANSFER\", 10623352.79, 0, 0], [4483935, 324, \"TRANSFER\", 14166807.55, 0, 0], [4483936, 324, \"TRANSFER\", 10496325.24, 0, 0], [4484098, 324, \"TRANSFER\", 13724914.31, 0, 0], [4484534, 324, \"TRANSFER\", 22546810.55, 0, 0], [4484804, 324, \"TRANSFER\", 23105862.44, 0, 0], [4485718, 324, \"TRANSFER\", 15995268.32, 0, 0], [4485727, 324, \"TRANSFER\", 15828382.7, 0, 0], [4486286, 324, \"TRANSFER\", 10872420.35, 0, 0], [4486305, 324, \"TRANSFER\", 15501286.48, 0, 0], [4486342, 324, \"TRANSFER\", 10796148.16, 0, 0], [4486487, 324, \"TRANSFER\", 11441620.58, 0, 0], [4486488, 324, \"TRANSFER\", 13404242.22, 0, 0], [4486725, 324, \"TRANSFER\", 17614080.4, 0, 0], [4486766, 324, \"TRANSFER\", 11632984.38, 0, 0], [4487457, 324, \"TRANSFER\", 18253641.81, 0, 0], [4488111, 324, \"TRANSFER\", 10483424.39, 0, 0], [4488348, 324, \"TRANSFER\", 11797240.17, 0, 0], [4488349, 324, \"TRANSFER\", 11807840.93, 0, 0], [4490873, 324, \"TRANSFER\", 11232720.17, 0, 0], [4492285, 324, \"TRANSFER\", 13153639.92, 0, 0], [4492958, 324, \"TRANSFER\", 16823427.35, 0, 0], [4492959, 324, \"TRANSFER\", 14591085.61, 0, 0], [4493114, 325, \"TRANSFER\", 13620968.66, 0, 0], [4493327, 325, \"TRANSFER\", 16228411.02, 0, 0], [4493397, 325, \"TRANSFER\", 15878994.91, 0, 0], [4493398, 325, \"TRANSFER\", 18091218.53, 0, 0], [4493789, 325, \"TRANSFER\", 13849394.93, 0, 0], [4493795, 325, \"TRANSFER\", 10608907.16, 0, 0], [4493796, 325, \"TRANSFER\", 14185196.28, 0, 0], [4493904, 325, \"TRANSFER\", 17938963.63, 0, 0], [4494042, 325, \"TRANSFER\", 16648079.09, 0, 0], [4494043, 325, \"TRANSFER\", 15014131.75, 0, 0], [4494253, 325, \"TRANSFER\", 11368244.85, 0, 0], [4494332, 325, \"TRANSFER\", 14881053.0, 0, 0], [4494333, 325, \"TRANSFER\", 14183076.01, 0, 0], [4494379, 325, \"TRANSFER\", 17076391.86, 0, 0], [4494862, 325, \"TRANSFER\", 30407556.08, 0, 0], [4494979, 325, \"TRANSFER\", 13166481.83, 0, 0], [4495317, 325, \"TRANSFER\", 18479506.42, 0, 0], [4497109, 325, \"TRANSFER\", 20418755.82, 0, 0], [4497110, 325, \"TRANSFER\", 18445401.9, 0, 0], [4497148, 325, \"TRANSFER\", 19973695.61, 0, 0], [4498528, 325, \"TRANSFER\", 11812400.58, 0, 0], [4498529, 325, \"TRANSFER\", 10492910.05, 0, 0], [4498789, 325, \"TRANSFER\", 21453918.13, 0, 0], [4498790, 325, \"TRANSFER\", 12877795.1, 0, 0], [4499231, 325, \"TRANSFER\", 27152231.28, 0, 0], [4499232, 325, \"TRANSFER\", 15947867.94, 0, 0], [4500177, 325, \"TRANSFER\", 10828110.87, 0, 0], [4500625, 325, \"TRANSFER\", 11679759.21, 0, 0], [4500677, 325, \"TRANSFER\", 15157824.73, 0, 0], [4500893, 325, \"TRANSFER\", 14681796.14, 0, 0], [4501277, 325, \"TRANSFER\", 19655298.29, 0, 0], [4501684, 325, \"TRANSFER\", 22116719.09, 0, 0], [4501685, 325, \"TRANSFER\", 17074721.86, 0, 0], [4502071, 325, \"TRANSFER\", 12307454.53, 0, 0], [4502482, 325, \"TRANSFER\", 18954696.62, 0, 0], [4503213, 325, \"TRANSFER\", 13690207.63, 0, 0], [4503525, 325, \"TRANSFER\", 10723064.77, 0, 0], [4503808, 325, \"TRANSFER\", 20729145.02, 0, 0], [4505968, 325, \"TRANSFER\", 13135465.49, 0, 0], [4506014, 325, \"TRANSFER\", 12024455.3, 0, 0], [4506617, 325, \"TRANSFER\", 30094536.76, 0, 0], [4507099, 325, \"TRANSFER\", 11522974.87, 0, 0], [4509535, 325, \"TRANSFER\", 13608394.16, 0, 0], [4510384, 325, \"TRANSFER\", 22487765.85, 0, 0], [4510545, 325, \"TRANSFER\", 11095790.44, 0, 0], [4511928, 325, \"TRANSFER\", 10733655.22, 0, 0], [4512563, 325, \"TRANSFER\", 12522964.9, 0, 0], [4513063, 325, \"TRANSFER\", 11060916.25, 0, 0], [4513637, 325, \"TRANSFER\", 26551749.24, 0, 0], [4513862, 325, \"TRANSFER\", 12393233.01, 0, 0], [4514412, 325, \"TRANSFER\", 14879658.91, 0, 0], [4515100, 325, \"TRANSFER\", 19610005.38, 0, 0], [4515257, 325, \"TRANSFER\", 14504267.21, 0, 0], [4515864, 325, \"TRANSFER\", 12734331.43, 0, 0], [4516292, 325, \"TRANSFER\", 17467147.45, 0, 0], [4517344, 325, \"TRANSFER\", 14963247.08, 0, 0], [4517625, 325, \"TRANSFER\", 15313868.21, 0, 0], [4517638, 325, \"TRANSFER\", 14982482.66, 0, 0], [4517639, 325, \"TRANSFER\", 11213879.78, 0, 0], [4517835, 325, \"TRANSFER\", 10215301.01, 0, 0], [4518310, 325, \"TRANSFER\", 13397015.19, 0, 0], [4519025, 325, \"TRANSFER\", 10665663.91, 0, 0], [4519772, 325, \"TRANSFER\", 13751923.17, 0, 0], [4521172, 326, \"TRANSFER\", 16340861.99, 0, 0], [4521249, 326, \"TRANSFER\", 19571109.81, 0, 0], [4521268, 326, \"TRANSFER\", 15077112.27, 0, 0], [4521488, 326, \"TRANSFER\", 15237111.13, 0, 0], [4521581, 326, \"TRANSFER\", 15543785.83, 0, 0], [4521590, 326, \"TRANSFER\", 11153295.89, 0, 0], [4521725, 326, \"TRANSFER\", 13404938.79, 0, 0], [4521820, 326, \"TRANSFER\", 19102926.44, 0, 0], [4522110, 326, \"TRANSFER\", 10638219.19, 0, 0], [4522111, 326, \"TRANSFER\", 14924359.02, 0, 0], [4522358, 326, \"TRANSFER\", 15089746.9, 0, 0], [4522422, 326, \"TRANSFER\", 23883820.49, 0, 0], [4522520, 326, \"TRANSFER\", 12121752.47, 0, 0], [4522529, 326, \"TRANSFER\", 11394702.86, 0, 0], [4522678, 326, \"TRANSFER\", 20170408.19, 0, 0], [4522739, 326, \"TRANSFER\", 12327147.13, 0, 0], [4523072, 326, \"TRANSFER\", 14828836.12, 0, 0], [4523449, 326, \"TRANSFER\", 20757088.69, 0, 0], [4523737, 326, \"TRANSFER\", 11359293.0, 0, 0], [4523745, 326, \"TRANSFER\", 13193520.82, 0, 0], [4523787, 326, \"TRANSFER\", 15726229.55, 0, 0], [4523788, 326, \"TRANSFER\", 12973587.93, 0, 0], [4524314, 326, \"TRANSFER\", 17216006.61, 0, 0], [4524360, 326, \"TRANSFER\", 11169683.18, 0, 0], [4524646, 326, \"TRANSFER\", 10277828.0, 0, 0], [4524758, 326, \"TRANSFER\", 14186848.93, 0, 0], [4524876, 326, \"TRANSFER\", 11354188.67, 0, 0], [4524985, 326, \"TRANSFER\", 11085448.47, 0, 0], [4525588, 326, \"TRANSFER\", 14472855.11, 0, 0], [4525621, 326, \"TRANSFER\", 12703417.76, 0, 0], [4525796, 326, \"TRANSFER\", 12128506.7, 0, 0], [4525992, 326, \"TRANSFER\", 11226247.29, 0, 0], [4526044, 326, \"TRANSFER\", 22032459.72, 0, 0], [4526045, 326, \"TRANSFER\", 14312494.1, 0, 0], [4526360, 326, \"TRANSFER\", 21555246.39, 0, 0], [4526442, 326, \"TRANSFER\", 11647516.53, 0, 0], [4526504, 326, \"TRANSFER\", 11452843.69, 0, 0], [4526511, 326, \"TRANSFER\", 26207362.03, 0, 0], [4526531, 326, \"TRANSFER\", 16877617.45, 0, 0], [4526937, 326, \"TRANSFER\", 11043543.81, 0, 0], [4526938, 326, \"TRANSFER\", 11188500.16, 0, 0], [4527151, 326, \"TRANSFER\", 11942990.8, 0, 0], [4527206, 326, \"TRANSFER\", 12651948.74, 0, 0], [4527220, 326, \"TRANSFER\", 14874776.28, 0, 0], [4527292, 326, \"TRANSFER\", 20415688.69, 0, 0], [4527693, 326, \"TRANSFER\", 22800768.5, 0, 0], [4527755, 326, \"TRANSFER\", 11912392.82, 0, 0], [4527805, 326, \"TRANSFER\", 14098352.52, 0, 0], [4528256, 326, \"TRANSFER\", 23228079.36, 0, 0], [4528721, 326, \"TRANSFER\", 15293916.44, 0, 0], [4529298, 326, \"TRANSFER\", 12736799.7, 0, 0], [4529310, 326, \"TRANSFER\", 11093224.65, 0, 0], [4529334, 326, \"TRANSFER\", 20797882.39, 0, 0], [4529899, 326, \"TRANSFER\", 12123343.63, 0, 0], [4530842, 326, \"TRANSFER\", 28979346.84, 0, 0], [4531450, 326, \"TRANSFER\", 10432705.09, 0, 0], [4531494, 326, \"TRANSFER\", 14007119.73, 0, 0], [4531526, 326, \"TRANSFER\", 17199101.84, 0, 0], [4531624, 326, \"TRANSFER\", 18534768.27, 0, 0], [4532102, 326, \"TRANSFER\", 24223624.57, 0, 0], [4532162, 326, \"TRANSFER\", 16580284.62, 0, 0], [4532362, 326, \"TRANSFER\", 15429456.6, 0, 0], [4532365, 326, \"TRANSFER\", 14287227.78, 0, 0], [4532515, 326, \"TRANSFER\", 17712985.57, 0, 0], [4532618, 326, \"TRANSFER\", 10515843.56, 0, 0], [4532686, 326, \"TRANSFER\", 10266664.35, 0, 0], [4532823, 326, \"TRANSFER\", 20432643.05, 0, 0], [4532877, 326, \"TRANSFER\", 12837708.33, 0, 0], [4533053, 326, \"TRANSFER\", 14395641.25, 0, 0], [4533258, 326, \"TRANSFER\", 18177201.71, 0, 0], [4533313, 326, \"TRANSFER\", 12186851.35, 0, 0], [4533674, 326, \"TRANSFER\", 16923115.06, 0, 0], [4533675, 326, \"TRANSFER\", 10170467.29, 0, 0], [4533901, 326, \"TRANSFER\", 18987211.91, 0, 0], [4534199, 326, \"TRANSFER\", 13646122.39, 0, 0], [4534301, 326, \"TRANSFER\", 14888476.82, 0, 0], [4534412, 326, \"TRANSFER\", 21306717.27, 0, 0], [4534798, 326, \"TRANSFER\", 15058883.87, 0, 0], [4534853, 326, \"TRANSFER\", 14833415.54, 0, 0], [4534877, 326, \"TRANSFER\", 11385715.6, 0, 0], [4535173, 326, \"TRANSFER\", 10671545.54, 0, 0], [4535296, 326, \"TRANSFER\", 14863687.74, 0, 0], [4535375, 326, \"TRANSFER\", 16486387.51, 0, 0], [4535376, 326, \"TRANSFER\", 18040298.52, 0, 0], [4535414, 326, \"TRANSFER\", 21048261.58, 0, 0], [4535416, 326, \"TRANSFER\", 14968934.74, 0, 0], [4535689, 326, \"TRANSFER\", 12084748.36, 0, 0], [4535770, 326, \"TRANSFER\", 20138221.23, 0, 0], [4535804, 326, \"TRANSFER\", 24991611.22, 0, 0], [4536152, 326, \"TRANSFER\", 10864525.2, 0, 0], [4536819, 326, \"TRANSFER\", 12510968.65, 0, 0], [4537082, 326, \"TRANSFER\", 13883987.62, 0, 0], [4537190, 326, \"TRANSFER\", 14853311.31, 0, 0], [4537214, 326, \"TRANSFER\", 10615185.58, 0, 0], [4537542, 326, \"TRANSFER\", 15123749.19, 0, 0], [4537605, 326, \"TRANSFER\", 10564443.71, 0, 0], [4537737, 326, \"TRANSFER\", 13779600.73, 0, 0], [4538000, 326, \"TRANSFER\", 15317239.16, 0, 0], [4538035, 326, \"TRANSFER\", 22460371.9, 0, 0], [4538350, 326, \"TRANSFER\", 12107537.1, 0, 0], [4539186, 326, \"TRANSFER\", 11485651.45, 0, 0], [4539221, 326, \"TRANSFER\", 22787941.96, 0, 0], [4539336, 326, \"TRANSFER\", 10725661.53, 0, 0], [4539345, 326, \"TRANSFER\", 11604137.57, 0, 0], [4539346, 326, \"TRANSFER\", 15901689.47, 0, 0], [4539394, 326, \"TRANSFER\", 27171284.89, 0, 0], [4539522, 326, \"TRANSFER\", 12626012.86, 0, 0], [4539845, 326, \"TRANSFER\", 13776460.76, 0, 0], [4539862, 326, \"TRANSFER\", 16962871.43, 0, 0], [4540029, 326, \"TRANSFER\", 13918121.72, 0, 0], [4540246, 326, \"TRANSFER\", 31163785.14, 0, 0], [4540496, 326, \"TRANSFER\", 15860017.75, 0, 0], [4540497, 326, \"TRANSFER\", 11102143.13, 0, 0], [4540647, 326, \"TRANSFER\", 13384109.74, 0, 0], [4540693, 326, \"TRANSFER\", 18397779.58, 0, 0], [4540705, 326, \"TRANSFER\", 10998313.83, 0, 0], [4541009, 326, \"TRANSFER\", 13435591.18, 0, 0], [4541174, 326, \"TRANSFER\", 19439042.54, 0, 0], [4541355, 326, \"TRANSFER\", 17078592.68, 0, 0], [4542058, 326, \"TRANSFER\", 14189901.64, 0, 0], [4542059, 326, \"TRANSFER\", 24333402.9, 0, 0], [4542127, 326, \"TRANSFER\", 18808211.46, 0, 0], [4542132, 326, \"TRANSFER\", 16955993.66, 0, 0], [4542133, 326, \"TRANSFER\", 11174049.7, 0, 0], [4542257, 326, \"TRANSFER\", 10897810.46, 0, 0], [4542431, 326, \"TRANSFER\", 11191250.21, 0, 0], [4542806, 326, \"TRANSFER\", 12270483.59, 0, 0], [4542901, 326, \"TRANSFER\", 16084911.07, 0, 0], [4542902, 326, \"TRANSFER\", 19619523.2, 0, 0], [4543389, 326, \"TRANSFER\", 14058328.87, 0, 0], [4543770, 326, \"TRANSFER\", 21214678.05, 0, 0], [4543886, 326, \"TRANSFER\", 14025587.45, 0, 0], [4544040, 326, \"TRANSFER\", 11226427.3, 0, 0], [4544047, 326, \"TRANSFER\", 13702487.69, 0, 0], [4544478, 326, \"TRANSFER\", 11728285.69, 0, 0], [4544494, 326, \"TRANSFER\", 13478983.16, 0, 0], [4544561, 326, \"TRANSFER\", 13747010.05, 0, 0], [4544680, 326, \"TRANSFER\", 12331239.09, 0, 0], [4544957, 326, \"TRANSFER\", 14527354.85, 0, 0], [4545585, 326, \"TRANSFER\", 11325881.53, 0, 0], [4545751, 326, \"TRANSFER\", 11697020.84, 0, 0], [4545966, 326, \"TRANSFER\", 16597418.54, 0, 0], [4546109, 326, \"TRANSFER\", 14718964.94, 0, 0], [4546535, 326, \"TRANSFER\", 16415868.45, 0, 0], [4546751, 326, \"TRANSFER\", 11117426.6, 0, 0], [4546913, 326, \"TRANSFER\", 16214687.15, 0, 0], [4547140, 326, \"TRANSFER\", 11135382.25, 0, 0], [4548003, 327, \"TRANSFER\", 21223333.31, 0, 0], [4548386, 327, \"TRANSFER\", 30038124.77, 0, 0], [4548470, 327, \"TRANSFER\", 10987154.05, 0, 0], [4549261, 327, \"TRANSFER\", 15381477.84, 0, 0], [4549324, 327, \"TRANSFER\", 13807836.63, 0, 0], [4550374, 327, \"TRANSFER\", 11062193.17, 0, 0], [4550820, 327, \"TRANSFER\", 30848998.63, 0, 0], [4550876, 327, \"TRANSFER\", 21134849.26, 0, 0], [4550880, 327, \"TRANSFER\", 10893697.21, 0, 0], [4551174, 327, \"TRANSFER\", 15378502.01, 0, 0], [4551350, 327, \"TRANSFER\", 13653830.79, 0, 0], [4551357, 327, \"TRANSFER\", 12374510.64, 0, 0], [4551591, 327, \"TRANSFER\", 14725618.06, 0, 0], [4551925, 327, \"TRANSFER\", 10079894.57, 0, 0], [4551958, 327, \"TRANSFER\", 12390905.61, 0, 0], [4552160, 327, \"TRANSFER\", 11026196.01, 0, 0], [4552277, 327, \"TRANSFER\", 10822222.7, 0, 0], [4552525, 327, \"TRANSFER\", 13803882.12, 0, 0], [4553268, 327, \"TRANSFER\", 11765194.61, 0, 0], [4553289, 327, \"TRANSFER\", 20640670.79, 0, 0], [4553336, 327, \"TRANSFER\", 17867316.66, 0, 0], [4553903, 327, \"TRANSFER\", 20012946.65, 0, 0], [4553953, 327, \"TRANSFER\", 11807133.44, 0, 0], [4553973, 327, \"TRANSFER\", 12688076.96, 0, 0], [4554050, 327, \"TRANSFER\", 17947588.78, 0, 0], [4554249, 327, \"TRANSFER\", 26980499.49, 0, 0], [4554344, 327, \"TRANSFER\", 10367319.82, 0, 0], [4554381, 327, \"TRANSFER\", 18101480.96, 0, 0], [4554537, 327, \"TRANSFER\", 16290130.74, 0, 0], [4554601, 327, \"TRANSFER\", 10626864.53, 0, 0], [4555167, 327, \"TRANSFER\", 11081949.59, 0, 0], [4555208, 327, \"TRANSFER\", 20473702.84, 0, 0], [4555316, 327, \"TRANSFER\", 13269798.4, 0, 0], [4555336, 327, \"TRANSFER\", 11019946.95, 0, 0], [4555620, 327, \"TRANSFER\", 19671521.22, 0, 0], [4556104, 327, \"TRANSFER\", 12330137.94, 0, 0], [4556141, 327, \"TRANSFER\", 13100451.79, 0, 0], [4556275, 327, \"TRANSFER\", 21047147.89, 0, 0], [4556928, 327, \"TRANSFER\", 11024312.84, 0, 0], [4556960, 327, \"TRANSFER\", 10888832.3, 0, 0], [4557409, 327, \"TRANSFER\", 10275655.77, 0, 0], [4557548, 327, \"TRANSFER\", 19554977.43, 0, 0], [4557936, 327, \"TRANSFER\", 10820489.49, 0, 0], [4558167, 327, \"TRANSFER\", 15588339.32, 0, 0], [4558308, 327, \"TRANSFER\", 13092398.22, 0, 0], [4558414, 327, \"TRANSFER\", 27628242.31, 0, 0], [4558687, 327, \"TRANSFER\", 20624147.61, 0, 0], [4558763, 327, \"TRANSFER\", 11579383.26, 0, 0], [4558866, 327, \"TRANSFER\", 26489997.24, 0, 0], [4559284, 327, \"TRANSFER\", 10632825.37, 0, 0], [4559777, 327, \"TRANSFER\", 14842791.41, 0, 0], [4560196, 327, \"TRANSFER\", 11115460.68, 0, 0], [4560220, 327, \"TRANSFER\", 17687909.43, 0, 0], [4560784, 327, \"TRANSFER\", 17564182.66, 0, 0], [4561012, 327, \"TRANSFER\", 22900998.11, 0, 0], [4561429, 327, \"TRANSFER\", 24721333.91, 0, 0], [4561822, 327, \"TRANSFER\", 13756644.2, 0, 0], [4561982, 327, \"TRANSFER\", 38448653.52, 0, 0], [4562116, 327, \"TRANSFER\", 11852843.3, 0, 0], [4562215, 327, \"TRANSFER\", 12402225.39, 0, 0], [4562513, 327, \"TRANSFER\", 16608538.12, 0, 0], [4562582, 327, \"TRANSFER\", 28999373.41, 0, 0], [4563007, 327, \"TRANSFER\", 10853226.59, 0, 0], [4563044, 327, \"TRANSFER\", 10474129.35, 0, 0], [4563226, 327, \"TRANSFER\", 10758528.6, 0, 0], [4563312, 327, \"TRANSFER\", 15464548.36, 0, 0], [4563578, 327, \"TRANSFER\", 12754619.58, 0, 0], [4563707, 327, \"TRANSFER\", 20212540.84, 0, 0], [4563728, 327, \"TRANSFER\", 12374255.99, 0, 0], [4564239, 327, \"TRANSFER\", 11234532.31, 0, 0], [4564303, 327, \"TRANSFER\", 19840365.73, 0, 0], [4564709, 327, \"TRANSFER\", 18296875.19, 0, 0], [4565916, 327, \"TRANSFER\", 11660696.02, 0, 0], [4566398, 327, \"TRANSFER\", 30305608.13, 0, 0], [4566747, 327, \"TRANSFER\", 19976629.47, 0, 0], [4566956, 327, \"TRANSFER\", 11653596.73, 0, 0], [4566970, 327, \"TRANSFER\", 12680663.35, 0, 0], [4567221, 327, \"TRANSFER\", 17419667.07, 0, 0], [4567641, 327, \"TRANSFER\", 12388383.64, 0, 0], [4568125, 327, \"TRANSFER\", 20177061.13, 0, 0], [4568237, 327, \"TRANSFER\", 12894199.33, 0, 0], [4568246, 327, \"TRANSFER\", 11970460.55, 0, 0], [4568817, 327, \"TRANSFER\", 11197218.23, 0, 0], [4568884, 327, \"TRANSFER\", 18981151.99, 0, 0], [4569022, 327, \"TRANSFER\", 11773733.08, 0, 0], [4569273, 327, \"TRANSFER\", 19142667.36, 0, 0], [4569542, 327, \"TRANSFER\", 11669966.22, 0, 0], [4569559, 327, \"TRANSFER\", 10740830.67, 0, 0], [4570083, 327, \"TRANSFER\", 11362543.24, 0, 0], [4570291, 327, \"TRANSFER\", 15322288.7, 0, 0], [4570362, 327, \"TRANSFER\", 11356787.97, 0, 0], [4570445, 327, \"TRANSFER\", 15367882.53, 0, 0], [4570453, 327, \"TRANSFER\", 15575200.37, 0, 0], [4571064, 327, \"TRANSFER\", 12980228.51, 0, 0], [4571103, 327, \"TRANSFER\", 13031590.95, 0, 0], [4571351, 327, \"TRANSFER\", 13463097.38, 0, 0], [4571368, 327, \"TRANSFER\", 10788660.51, 0, 0], [4571620, 327, \"TRANSFER\", 15255573.22, 0, 0], [4571745, 327, \"TRANSFER\", 11008535.01, 0, 0], [4572370, 327, \"TRANSFER\", 10802031.23, 0, 0], [4572565, 327, \"TRANSFER\", 15844381.06, 0, 0], [4572570, 327, \"TRANSFER\", 10841968.36, 0, 0], [4572750, 327, \"TRANSFER\", 10832567.31, 0, 0], [4576271, 328, \"TRANSFER\", 11342725.74, 0, 0], [4618478, 329, \"TRANSFER\", 10823064.67, 0, 0], [4721894, 332, \"TRANSFER\", 14497149.13, 0, 0], [4751209, 333, \"TRANSFER\", 11144171.11, 0, 0], [4754946, 333, \"TRANSFER\", 11778344.16, 0, 0], [4768098, 334, \"TRANSFER\", 10837075.13, 0, 0], [4809024, 346, \"TRANSFER\", 11573352.84, 0, 0], [4829816, 347, \"TRANSFER\", 10357587.91, 0, 0], [4829900, 347, \"TRANSFER\", 10035212.0, 0, 0], [4830194, 347, \"TRANSFER\", 13732908.05, 0, 0], [4846412, 347, \"TRANSFER\", 12293745.98, 0, 0], [4855199, 347, \"TRANSFER\", 10961659.19, 0, 0], [4864680, 348, \"TRANSFER\", 10384913.87, 0, 0], [4872275, 348, \"TRANSFER\", 10146741.68, 0, 0], [4940741, 350, \"TRANSFER\", 10346132.19, 0, 0], [4947063, 351, \"TRANSFER\", 15503697.11, 0, 0], [4955732, 351, \"TRANSFER\", 14286322.71, 0, 0], [4955883, 351, \"TRANSFER\", 13052857.24, 0, 0], [4963854, 351, \"TRANSFER\", 11383671.5, 0, 0], [4981506, 352, \"TRANSFER\", 10884346.82, 0, 0], [5036839, 354, \"TRANSFER\", 12009732.36, 0, 0], [5042665, 354, \"TRANSFER\", 10433697.37, 0, 0], [5047347, 354, \"TRANSFER\", 11506304.11, 0, 0], [5051976, 354, \"TRANSFER\", 10598894.46, 0, 0], [5069749, 355, \"TRANSFER\", 10130962.38, 0, 0], [5074008, 355, \"TRANSFER\", 11382817.12, 0, 0], [5085509, 355, \"TRANSFER\", 11973276.09, 0, 0], [5116429, 356, \"TRANSFER\", 10618210.91, 0, 0], [5145331, 356, \"TRANSFER\", 13901143.94, 0, 0], [5146026, 356, \"TRANSFER\", 17189559.66, 0, 0], [5157534, 357, \"TRANSFER\", 14165272.59, 0, 0], [5165148, 358, \"TRANSFER\", 10092260.82, 0, 0], [5168791, 358, \"TRANSFER\", 16988967.91, 0, 0], [5171950, 358, \"TRANSFER\", 12108707.29, 0, 0], [5178185, 359, \"TRANSFER\", 13922066.62, 0, 0], [5195798, 369, \"TRANSFER\", 13698515.81, 0, 0], [5212269, 370, \"TRANSFER\", 10611878.49, 0, 0], [5212604, 370, \"TRANSFER\", 10165024.11, 0, 0], [5216649, 370, \"TRANSFER\", 12310042.35, 0, 0], [5217626, 370, \"TRANSFER\", 17830894.04, 0, 0], [5257998, 372, \"TRANSFER\", 12811610.23, 0, 0], [5263407, 372, \"TRANSFER\", 10832215.07, 0, 0], [5264739, 372, \"TRANSFER\", 11839632.55, 0, 0], [5269687, 372, \"TRANSFER\", 12166167.28, 0, 0], [5273587, 372, \"TRANSFER\", 10134227.88, 0, 0], [5275907, 372, \"TRANSFER\", 10238776.52, 0, 0], [5285474, 372, \"TRANSFER\", 13257492.94, 0, 0], [5302898, 373, \"TRANSFER\", 10495807.12, 0, 0], [5304470, 373, \"TRANSFER\", 11836226.04, 0, 0], [5306351, 373, \"TRANSFER\", 12858977.81, 0, 0], [5307194, 373, \"TRANSFER\", 14575352.11, 0, 0], [5308198, 373, \"TRANSFER\", 10669544.77, 0, 0], [5309803, 373, \"TRANSFER\", 10876334.3, 0, 0], [5313998, 373, \"TRANSFER\", 14011884.22, 0, 0], [5319170, 374, \"TRANSFER\", 14912860.99, 0, 0], [5321773, 374, \"TRANSFER\", 11273082.8, 0, 0], [5324488, 374, \"TRANSFER\", 11576573.7, 0, 0], [5326613, 374, \"TRANSFER\", 10004764.8, 0, 0], [5326638, 374, \"TRANSFER\", 14065264.13, 0, 0], [5336707, 374, \"TRANSFER\", 19953778.06, 0, 0], [5342838, 375, \"TRANSFER\", 16475933.0, 0, 0], [5345155, 375, \"TRANSFER\", 10392575.36, 0, 0], [5345660, 375, \"TRANSFER\", 10001912.39, 0, 0], [5347125, 375, \"TRANSFER\", 10641352.99, 0, 0], [5348568, 375, \"TRANSFER\", 10649293.04, 0, 0], [5351146, 375, \"TRANSFER\", 11357535.73, 0, 0], [5351244, 375, \"TRANSFER\", 12543280.35, 0, 0], [5351532, 375, \"TRANSFER\", 10539162.77, 0, 0], [5355915, 375, \"TRANSFER\", 10056779.15, 0, 0], [5357439, 375, \"TRANSFER\", 10585340.92, 0, 0], [5360387, 375, \"TRANSFER\", 11673390.71, 0, 0], [5361122, 375, \"TRANSFER\", 15398204.75, 0, 0], [5361639, 375, \"TRANSFER\", 12364008.92, 0, 0], [5364230, 375, \"TRANSFER\", 10979835.62, 0, 0], [5364415, 375, \"TRANSFER\", 13637318.14, 0, 0], [5366600, 375, \"TRANSFER\", 16125190.92, 0, 0], [5367121, 375, \"TRANSFER\", 10420967.94, 0, 0], [5367470, 375, \"TRANSFER\", 10353705.71, 0, 0], [5368003, 375, \"TRANSFER\", 10695331.24, 0, 0], [5553904, 383, \"TRANSFER\", 10100156.46, 0, 0], [6030093, 472, \"TRANSFER\", 14854169.86, 0, 0], [6219876, 589, \"TRANSFER\", 10731404.48, 0, 0], [6231252, 592, \"TRANSFER\", 10218694.29, 0, 0], [6232735, 594, \"TRANSFER\", 12036162.7, 0, 0], [6236271, 594, \"TRANSFER\", 10273225.28, 0, 0], [6237342, 594, \"TRANSFER\", 13692161.89, 0, 0], [6238328, 594, \"TRANSFER\", 10848128.05, 0, 0], [6239963, 595, \"TRANSFER\", 15415938.31, 0, 0], [6243095, 595, \"TRANSFER\", 10012914.87, 0, 0], [6244835, 596, \"TRANSFER\", 14665101.05, 0, 0], [6247197, 596, \"TRANSFER\", 12538691.51, 0, 0], [6248233, 596, \"TRANSFER\", 10373986.62, 0, 0], [6250656, 596, \"TRANSFER\", 10131846.95, 0, 0], [6252197, 596, \"TRANSFER\", 12175598.95, 0, 0], [6254047, 597, \"TRANSFER\", 10209112.17, 0, 0], [6268094, 617, \"TRANSFER\", 11941912.65, 0, 0], [6268541, 617, \"TRANSFER\", 11291624.69, 0, 0], [6268840, 617, \"TRANSFER\", 11050732.49, 0, 0], [6271814, 621, \"TRANSFER\", 15222880.76, 0, 0], [6273122, 630, \"TRANSFER\", 11963358.83, 0, 0], [6297147, 681, \"TRANSFER\", 11368206.77, 0, 0], [6298360, 681, \"TRANSFER\", 15116218.46, 0, 0]]};\n",
       "        dt_args = eval_functions(dt_args);\n",
       "        table = $('#8ddd4d38-225f-43a6-bb14-c59b206f403d').DataTable(dt_args);\n",
       "    });\n",
       "})\n",
       "</script>\n",
       "</div>\n"
      ],
      "text/plain": [
       "         step      type       amount     nameOrig  oldbalanceOrig  \\\n",
       "3591182   262  TRANSFER  23695249.33   C837745698             0.0   \n",
       "3592661   262  TRANSFER  14291816.93  C1719653359             0.0   \n",
       "3610921   267  TRANSFER  24288781.97  C1666560485             0.0   \n",
       "3611293   273  TRANSFER  11376816.99  C1487422082             0.0   \n",
       "3611622   273  TRANSFER  35797147.01   C292308787             0.0   \n",
       "...       ...       ...          ...          ...             ...   \n",
       "6268840   617  TRANSFER  11050732.49  C1946550564             0.0   \n",
       "6271814   621  TRANSFER  15222880.76    C56090320             0.0   \n",
       "6273122   630  TRANSFER  11963358.83   C371762975             0.0   \n",
       "6297147   681  TRANSFER  11368206.77    C75141704             0.0   \n",
       "6298360   681  TRANSFER  15116218.46   C448900048             0.0   \n",
       "\n",
       "         newbalanceOrig     nameDest  oldbalanceDest  newbalanceDest  isFraud  \\\n",
       "3591182             0.0   C817622325     37522324.82     61217574.14        0   \n",
       "3592661             0.0  C1366830412     21552410.56     35844227.49        0   \n",
       "3610921             0.0  C1320946922     28009319.23     52298101.20        0   \n",
       "3611293             0.0   C755537803     12699981.88     24076798.87        0   \n",
       "3611622             0.0   C817622325     61217574.14     97014721.15        0   \n",
       "...                 ...          ...             ...             ...      ...   \n",
       "6268840             0.0  C1980722819     19707359.47     30758091.96        0   \n",
       "6271814             0.0  C1641625032     16113194.24     31336075.00        0   \n",
       "6273122             0.0   C262355562     12883327.91     24846686.74        0   \n",
       "6297147             0.0  C2134893079     38333129.35     49701336.12        0   \n",
       "6298360             0.0  C1265642416     25814281.37     40867233.42        0   \n",
       "\n",
       "         isFlaggedFraud  \n",
       "3591182               0  \n",
       "3592661               0  \n",
       "3610921               0  \n",
       "3611293               0  \n",
       "3611622               0  \n",
       "...                 ...  \n",
       "6268840               0  \n",
       "6271814               0  \n",
       "6273122               0  \n",
       "6297147               0  \n",
       "6298360               0  \n",
       "\n",
       "[2443 rows x 11 columns]"
      ]
     },
     "execution_count": 19,
     "metadata": {},
     "output_type": "execute_result"
    }
   ],
   "source": [
    "from itables import init_notebook_mode\n",
    "init_notebook_mode(all_interactive=True)\n",
    "\n",
    "df[df['amount']>10000000]"
   ]
  },
  {
   "cell_type": "markdown",
   "metadata": {},
   "source": [
    "Below, we can see in these pairwise plots between **amount** and **oldbalanceDest / newbalanceDest** that they exhibit more evenly random distributions. There appears to be a very weak positive relationship between amounts and destination account balances, which we observed earlier in the correlation matrix."
   ]
  },
  {
   "cell_type": "code",
   "execution_count": 20,
   "metadata": {},
   "outputs": [
    {
     "name": "stderr",
     "output_type": "stream",
     "text": [
      "<ipython-input-20-93744aeb6df4>:6: UserWarning: Matplotlib is currently using module://ipykernel.pylab.backend_inline, which is a non-GUI backend, so cannot show the figure.\n",
      "  fig.show()\n"
     ]
    },
    {
     "data": {
      "image/png": "[encoded data removed]",
      "text/plain": [
       "<Figure size 432x288 with 2 Axes>"
      ]
     },
     "metadata": {
      "needs_background": "light"
     },
     "output_type": "display_data"
    }
   ],
   "source": [
    "fig, ax = plt.subplots(1,2)\n",
    "\n",
    "sns.scatterplot(data=df, x='oldbalanceDest', y='amount', ax=ax[0])\n",
    "sns.scatterplot(data=df, x='newbalanceDest', y='amount', ax=ax[1])\n",
    "\n",
    "fig.show()"
   ]
  },
  {
   "cell_type": "markdown",
   "metadata": {},
   "source": [
    "#### Feature Engineering\n",
    "We can create some additional columns derived from existing data for features that may improve the model performance.\n",
    "\n",
    "**Merchant Accounts**\n",
    "\n",
    "As stated earlier, merchant account numbers are denoted by the 'M' prefix. We will capture this information in a boolean variable that the model can use as a feature."
   ]
  },
  {
   "cell_type": "code",
   "execution_count": 2,
   "metadata": {},
   "outputs": [],
   "source": [
    "df1 = pd.read_csv('fraud.csv')"
   ]
  },
  {
   "cell_type": "code",
   "execution_count": 4,
   "metadata": {},
   "outputs": [
    {
     "data": {
      "text/html": [
       "<div>\n",
       "<style scoped>\n",
       "    .dataframe tbody tr th:only-of-type {\n",
       "        vertical-align: middle;\n",
       "    }\n",
       "\n",
       "    .dataframe tbody tr th {\n",
       "        vertical-align: top;\n",
       "    }\n",
       "\n",
       "    .dataframe thead th {\n",
       "        text-align: right;\n",
       "    }\n",
       "</style>\n",
       "<table border=\"1\" class=\"dataframe\">\n",
       "  <thead>\n",
       "    <tr style=\"text-align: right;\">\n",
       "      <th></th>\n",
       "      <th>step</th>\n",
       "      <th>type</th>\n",
       "      <th>amount</th>\n",
       "      <th>nameOrig</th>\n",
       "      <th>oldbalanceOrig</th>\n",
       "      <th>newbalanceOrig</th>\n",
       "      <th>nameDest</th>\n",
       "      <th>oldbalanceDest</th>\n",
       "      <th>newbalanceDest</th>\n",
       "      <th>isFraud</th>\n",
       "      <th>isFlaggedFraud</th>\n",
       "      <th>merchant</th>\n",
       "    </tr>\n",
       "  </thead>\n",
       "  <tbody>\n",
       "    <tr>\n",
       "      <th>0</th>\n",
       "      <td>1</td>\n",
       "      <td>PAYMENT</td>\n",
       "      <td>9839.64</td>\n",
       "      <td>C1231006815</td>\n",
       "      <td>170136.00</td>\n",
       "      <td>160296.36</td>\n",
       "      <td>M1979787155</td>\n",
       "      <td>0.0</td>\n",
       "      <td>0.00</td>\n",
       "      <td>0</td>\n",
       "      <td>0</td>\n",
       "      <td>True</td>\n",
       "    </tr>\n",
       "    <tr>\n",
       "      <th>1</th>\n",
       "      <td>1</td>\n",
       "      <td>PAYMENT</td>\n",
       "      <td>1864.28</td>\n",
       "      <td>C1666544295</td>\n",
       "      <td>21249.00</td>\n",
       "      <td>19384.72</td>\n",
       "      <td>M2044282225</td>\n",
       "      <td>0.0</td>\n",
       "      <td>0.00</td>\n",
       "      <td>0</td>\n",
       "      <td>0</td>\n",
       "      <td>True</td>\n",
       "    </tr>\n",
       "    <tr>\n",
       "      <th>2</th>\n",
       "      <td>1</td>\n",
       "      <td>TRANSFER</td>\n",
       "      <td>181.00</td>\n",
       "      <td>C1305486145</td>\n",
       "      <td>181.00</td>\n",
       "      <td>0.00</td>\n",
       "      <td>C553264065</td>\n",
       "      <td>0.0</td>\n",
       "      <td>0.00</td>\n",
       "      <td>1</td>\n",
       "      <td>0</td>\n",
       "      <td>False</td>\n",
       "    </tr>\n",
       "    <tr>\n",
       "      <th>3</th>\n",
       "      <td>1</td>\n",
       "      <td>CASH_OUT</td>\n",
       "      <td>181.00</td>\n",
       "      <td>C840083671</td>\n",
       "      <td>181.00</td>\n",
       "      <td>0.00</td>\n",
       "      <td>C38997010</td>\n",
       "      <td>21182.0</td>\n",
       "      <td>0.00</td>\n",
       "      <td>1</td>\n",
       "      <td>0</td>\n",
       "      <td>False</td>\n",
       "    </tr>\n",
       "    <tr>\n",
       "      <th>4</th>\n",
       "      <td>1</td>\n",
       "      <td>PAYMENT</td>\n",
       "      <td>11668.14</td>\n",
       "      <td>C2048537720</td>\n",
       "      <td>41554.00</td>\n",
       "      <td>29885.86</td>\n",
       "      <td>M1230701703</td>\n",
       "      <td>0.0</td>\n",
       "      <td>0.00</td>\n",
       "      <td>0</td>\n",
       "      <td>0</td>\n",
       "      <td>True</td>\n",
       "    </tr>\n",
       "    <tr>\n",
       "      <th>5</th>\n",
       "      <td>1</td>\n",
       "      <td>PAYMENT</td>\n",
       "      <td>7817.71</td>\n",
       "      <td>C90045638</td>\n",
       "      <td>53860.00</td>\n",
       "      <td>46042.29</td>\n",
       "      <td>M573487274</td>\n",
       "      <td>0.0</td>\n",
       "      <td>0.00</td>\n",
       "      <td>0</td>\n",
       "      <td>0</td>\n",
       "      <td>True</td>\n",
       "    </tr>\n",
       "    <tr>\n",
       "      <th>6</th>\n",
       "      <td>1</td>\n",
       "      <td>PAYMENT</td>\n",
       "      <td>7107.77</td>\n",
       "      <td>C154988899</td>\n",
       "      <td>183195.00</td>\n",
       "      <td>176087.23</td>\n",
       "      <td>M408069119</td>\n",
       "      <td>0.0</td>\n",
       "      <td>0.00</td>\n",
       "      <td>0</td>\n",
       "      <td>0</td>\n",
       "      <td>True</td>\n",
       "    </tr>\n",
       "    <tr>\n",
       "      <th>7</th>\n",
       "      <td>1</td>\n",
       "      <td>PAYMENT</td>\n",
       "      <td>7861.64</td>\n",
       "      <td>C1912850431</td>\n",
       "      <td>176087.23</td>\n",
       "      <td>168225.59</td>\n",
       "      <td>M633326333</td>\n",
       "      <td>0.0</td>\n",
       "      <td>0.00</td>\n",
       "      <td>0</td>\n",
       "      <td>0</td>\n",
       "      <td>True</td>\n",
       "    </tr>\n",
       "    <tr>\n",
       "      <th>8</th>\n",
       "      <td>1</td>\n",
       "      <td>PAYMENT</td>\n",
       "      <td>4024.36</td>\n",
       "      <td>C1265012928</td>\n",
       "      <td>2671.00</td>\n",
       "      <td>0.00</td>\n",
       "      <td>M1176932104</td>\n",
       "      <td>0.0</td>\n",
       "      <td>0.00</td>\n",
       "      <td>0</td>\n",
       "      <td>0</td>\n",
       "      <td>True</td>\n",
       "    </tr>\n",
       "    <tr>\n",
       "      <th>9</th>\n",
       "      <td>1</td>\n",
       "      <td>DEBIT</td>\n",
       "      <td>5337.77</td>\n",
       "      <td>C712410124</td>\n",
       "      <td>41720.00</td>\n",
       "      <td>36382.23</td>\n",
       "      <td>C195600860</td>\n",
       "      <td>41898.0</td>\n",
       "      <td>40348.79</td>\n",
       "      <td>0</td>\n",
       "      <td>0</td>\n",
       "      <td>False</td>\n",
       "    </tr>\n",
       "  </tbody>\n",
       "</table>\n",
       "</div>"
      ],
      "text/plain": [
       "   step      type    amount     nameOrig  oldbalanceOrig  newbalanceOrig  \\\n",
       "0     1   PAYMENT   9839.64  C1231006815       170136.00       160296.36   \n",
       "1     1   PAYMENT   1864.28  C1666544295        21249.00        19384.72   \n",
       "2     1  TRANSFER    181.00  C1305486145          181.00            0.00   \n",
       "3     1  CASH_OUT    181.00   C840083671          181.00            0.00   \n",
       "4     1   PAYMENT  11668.14  C2048537720        41554.00        29885.86   \n",
       "5     1   PAYMENT   7817.71    C90045638        53860.00        46042.29   \n",
       "6     1   PAYMENT   7107.77   C154988899       183195.00       176087.23   \n",
       "7     1   PAYMENT   7861.64  C1912850431       176087.23       168225.59   \n",
       "8     1   PAYMENT   4024.36  C1265012928         2671.00            0.00   \n",
       "9     1     DEBIT   5337.77   C712410124        41720.00        36382.23   \n",
       "\n",
       "      nameDest  oldbalanceDest  newbalanceDest  isFraud  isFlaggedFraud  \\\n",
       "0  M1979787155             0.0            0.00        0               0   \n",
       "1  M2044282225             0.0            0.00        0               0   \n",
       "2   C553264065             0.0            0.00        1               0   \n",
       "3    C38997010         21182.0            0.00        1               0   \n",
       "4  M1230701703             0.0            0.00        0               0   \n",
       "5   M573487274             0.0            0.00        0               0   \n",
       "6   M408069119             0.0            0.00        0               0   \n",
       "7   M633326333             0.0            0.00        0               0   \n",
       "8  M1176932104             0.0            0.00        0               0   \n",
       "9   C195600860         41898.0        40348.79        0               0   \n",
       "\n",
       "   merchant  \n",
       "0      True  \n",
       "1      True  \n",
       "2     False  \n",
       "3     False  \n",
       "4      True  \n",
       "5      True  \n",
       "6      True  \n",
       "7      True  \n",
       "8      True  \n",
       "9     False  "
      ]
     },
     "execution_count": 4,
     "metadata": {},
     "output_type": "execute_result"
    }
   ],
   "source": [
    "df1['merchant'] = df1['nameDest'].str.contains('M')\n",
    "\n",
    "df1.head(10)"
   ]
  },
  {
   "cell_type": "markdown",
   "metadata": {},
   "source": [
    "We can see here that transactions involving merchant accounts are never fraudulent, while those transactions not involving merchants are sometimes fraudulent."
   ]
  },
  {
   "cell_type": "code",
   "execution_count": 5,
   "metadata": {},
   "outputs": [
    {
     "data": {
      "text/plain": [
       "isFraud  merchant\n",
       "0        False       693560\n",
       "         True        353873\n",
       "1        False         1142\n",
       "dtype: int64"
      ]
     },
     "execution_count": 5,
     "metadata": {},
     "output_type": "execute_result"
    }
   ],
   "source": [
    "df1[['isFraud','merchant']].value_counts()"
   ]
  },
  {
   "cell_type": "markdown",
   "metadata": {},
   "source": [
    "Looking at the rows where isFraud==1"
   ]
  },
  {
   "cell_type": "code",
   "execution_count": 6,
   "metadata": {},
   "outputs": [
    {
     "data": {
      "text/html": [
       "<div>\n",
       "<style scoped>\n",
       "    .dataframe tbody tr th:only-of-type {\n",
       "        vertical-align: middle;\n",
       "    }\n",
       "\n",
       "    .dataframe tbody tr th {\n",
       "        vertical-align: top;\n",
       "    }\n",
       "\n",
       "    .dataframe thead th {\n",
       "        text-align: right;\n",
       "    }\n",
       "</style>\n",
       "<table border=\"1\" class=\"dataframe\">\n",
       "  <thead>\n",
       "    <tr style=\"text-align: right;\">\n",
       "      <th></th>\n",
       "      <th>step</th>\n",
       "      <th>type</th>\n",
       "      <th>amount</th>\n",
       "      <th>nameOrig</th>\n",
       "      <th>oldbalanceOrig</th>\n",
       "      <th>newbalanceOrig</th>\n",
       "      <th>nameDest</th>\n",
       "      <th>oldbalanceDest</th>\n",
       "      <th>newbalanceDest</th>\n",
       "      <th>isFraud</th>\n",
       "      <th>isFlaggedFraud</th>\n",
       "      <th>merchant</th>\n",
       "    </tr>\n",
       "  </thead>\n",
       "  <tbody>\n",
       "    <tr>\n",
       "      <th>2</th>\n",
       "      <td>1</td>\n",
       "      <td>TRANSFER</td>\n",
       "      <td>181.00</td>\n",
       "      <td>C1305486145</td>\n",
       "      <td>181.00</td>\n",
       "      <td>0.0</td>\n",
       "      <td>C553264065</td>\n",
       "      <td>0.0</td>\n",
       "      <td>0.00</td>\n",
       "      <td>1</td>\n",
       "      <td>0</td>\n",
       "      <td>False</td>\n",
       "    </tr>\n",
       "    <tr>\n",
       "      <th>3</th>\n",
       "      <td>1</td>\n",
       "      <td>CASH_OUT</td>\n",
       "      <td>181.00</td>\n",
       "      <td>C840083671</td>\n",
       "      <td>181.00</td>\n",
       "      <td>0.0</td>\n",
       "      <td>C38997010</td>\n",
       "      <td>21182.0</td>\n",
       "      <td>0.00</td>\n",
       "      <td>1</td>\n",
       "      <td>0</td>\n",
       "      <td>False</td>\n",
       "    </tr>\n",
       "    <tr>\n",
       "      <th>251</th>\n",
       "      <td>1</td>\n",
       "      <td>TRANSFER</td>\n",
       "      <td>2806.00</td>\n",
       "      <td>C1420196421</td>\n",
       "      <td>2806.00</td>\n",
       "      <td>0.0</td>\n",
       "      <td>C972765878</td>\n",
       "      <td>0.0</td>\n",
       "      <td>0.00</td>\n",
       "      <td>1</td>\n",
       "      <td>0</td>\n",
       "      <td>False</td>\n",
       "    </tr>\n",
       "    <tr>\n",
       "      <th>252</th>\n",
       "      <td>1</td>\n",
       "      <td>CASH_OUT</td>\n",
       "      <td>2806.00</td>\n",
       "      <td>C2101527076</td>\n",
       "      <td>2806.00</td>\n",
       "      <td>0.0</td>\n",
       "      <td>C1007251739</td>\n",
       "      <td>26202.0</td>\n",
       "      <td>0.00</td>\n",
       "      <td>1</td>\n",
       "      <td>0</td>\n",
       "      <td>False</td>\n",
       "    </tr>\n",
       "    <tr>\n",
       "      <th>680</th>\n",
       "      <td>1</td>\n",
       "      <td>TRANSFER</td>\n",
       "      <td>20128.00</td>\n",
       "      <td>C137533655</td>\n",
       "      <td>20128.00</td>\n",
       "      <td>0.0</td>\n",
       "      <td>C1848415041</td>\n",
       "      <td>0.0</td>\n",
       "      <td>0.00</td>\n",
       "      <td>1</td>\n",
       "      <td>0</td>\n",
       "      <td>False</td>\n",
       "    </tr>\n",
       "    <tr>\n",
       "      <th>681</th>\n",
       "      <td>1</td>\n",
       "      <td>CASH_OUT</td>\n",
       "      <td>20128.00</td>\n",
       "      <td>C1118430673</td>\n",
       "      <td>20128.00</td>\n",
       "      <td>0.0</td>\n",
       "      <td>C339924917</td>\n",
       "      <td>6268.0</td>\n",
       "      <td>12145.85</td>\n",
       "      <td>1</td>\n",
       "      <td>0</td>\n",
       "      <td>False</td>\n",
       "    </tr>\n",
       "    <tr>\n",
       "      <th>724</th>\n",
       "      <td>1</td>\n",
       "      <td>CASH_OUT</td>\n",
       "      <td>416001.33</td>\n",
       "      <td>C749981943</td>\n",
       "      <td>0.00</td>\n",
       "      <td>0.0</td>\n",
       "      <td>C667346055</td>\n",
       "      <td>102.0</td>\n",
       "      <td>9291619.62</td>\n",
       "      <td>1</td>\n",
       "      <td>0</td>\n",
       "      <td>False</td>\n",
       "    </tr>\n",
       "    <tr>\n",
       "      <th>969</th>\n",
       "      <td>1</td>\n",
       "      <td>TRANSFER</td>\n",
       "      <td>1277212.77</td>\n",
       "      <td>C1334405552</td>\n",
       "      <td>1277212.77</td>\n",
       "      <td>0.0</td>\n",
       "      <td>C431687661</td>\n",
       "      <td>0.0</td>\n",
       "      <td>0.00</td>\n",
       "      <td>1</td>\n",
       "      <td>0</td>\n",
       "      <td>False</td>\n",
       "    </tr>\n",
       "    <tr>\n",
       "      <th>970</th>\n",
       "      <td>1</td>\n",
       "      <td>CASH_OUT</td>\n",
       "      <td>1277212.77</td>\n",
       "      <td>C467632528</td>\n",
       "      <td>1277212.77</td>\n",
       "      <td>0.0</td>\n",
       "      <td>C716083600</td>\n",
       "      <td>0.0</td>\n",
       "      <td>2444985.19</td>\n",
       "      <td>1</td>\n",
       "      <td>0</td>\n",
       "      <td>False</td>\n",
       "    </tr>\n",
       "    <tr>\n",
       "      <th>1115</th>\n",
       "      <td>1</td>\n",
       "      <td>TRANSFER</td>\n",
       "      <td>35063.63</td>\n",
       "      <td>C1364127192</td>\n",
       "      <td>35063.63</td>\n",
       "      <td>0.0</td>\n",
       "      <td>C1136419747</td>\n",
       "      <td>0.0</td>\n",
       "      <td>0.00</td>\n",
       "      <td>1</td>\n",
       "      <td>0</td>\n",
       "      <td>False</td>\n",
       "    </tr>\n",
       "  </tbody>\n",
       "</table>\n",
       "</div>"
      ],
      "text/plain": [
       "      step      type      amount     nameOrig  oldbalanceOrig  newbalanceOrig  \\\n",
       "2        1  TRANSFER      181.00  C1305486145          181.00             0.0   \n",
       "3        1  CASH_OUT      181.00   C840083671          181.00             0.0   \n",
       "251      1  TRANSFER     2806.00  C1420196421         2806.00             0.0   \n",
       "252      1  CASH_OUT     2806.00  C2101527076         2806.00             0.0   \n",
       "680      1  TRANSFER    20128.00   C137533655        20128.00             0.0   \n",
       "681      1  CASH_OUT    20128.00  C1118430673        20128.00             0.0   \n",
       "724      1  CASH_OUT   416001.33   C749981943            0.00             0.0   \n",
       "969      1  TRANSFER  1277212.77  C1334405552      1277212.77             0.0   \n",
       "970      1  CASH_OUT  1277212.77   C467632528      1277212.77             0.0   \n",
       "1115     1  TRANSFER    35063.63  C1364127192        35063.63             0.0   \n",
       "\n",
       "         nameDest  oldbalanceDest  newbalanceDest  isFraud  isFlaggedFraud  \\\n",
       "2      C553264065             0.0            0.00        1               0   \n",
       "3       C38997010         21182.0            0.00        1               0   \n",
       "251    C972765878             0.0            0.00        1               0   \n",
       "252   C1007251739         26202.0            0.00        1               0   \n",
       "680   C1848415041             0.0            0.00        1               0   \n",
       "681    C339924917          6268.0        12145.85        1               0   \n",
       "724    C667346055           102.0      9291619.62        1               0   \n",
       "969    C431687661             0.0            0.00        1               0   \n",
       "970    C716083600             0.0      2444985.19        1               0   \n",
       "1115  C1136419747             0.0            0.00        1               0   \n",
       "\n",
       "      merchant  \n",
       "2        False  \n",
       "3        False  \n",
       "251      False  \n",
       "252      False  \n",
       "680      False  \n",
       "681      False  \n",
       "724      False  \n",
       "969      False  \n",
       "970      False  \n",
       "1115     False  "
      ]
     },
     "execution_count": 6,
     "metadata": {},
     "output_type": "execute_result"
    }
   ],
   "source": [
    "df1[df1['isFraud']==1].head(10)"
   ]
  },
  {
   "cell_type": "markdown",
   "metadata": {},
   "source": [
    "All fraudulent transactions fall under the CASH_OUT or TRANSFER type."
   ]
  },
  {
   "cell_type": "markdown",
   "metadata": {},
   "source": [
    "#### Counts of each transaction type for fraudulent transactions"
   ]
  },
  {
   "cell_type": "code",
   "execution_count": 8,
   "metadata": {},
   "outputs": [
    {
     "data": {
      "text/plain": [
       "CASH_OUT    578\n",
       "TRANSFER    564\n",
       "Name: type, dtype: int64"
      ]
     },
     "execution_count": 8,
     "metadata": {},
     "output_type": "execute_result"
    }
   ],
   "source": [
    "df1[df1['isFraud']==1]['type'].value_counts()"
   ]
  },
  {
   "cell_type": "markdown",
   "metadata": {},
   "source": [
    "As described in the dataset documentation, these transactions typically involve the fraud agent pulling large amounts out of the targeted accounts. Let's see if we can demonstrate some of these characteristics by creating and observing columns that show the change in account balances due to a transaction. We will use the convention of subtracting old balance from new, so that the difference value is positive if the account balance is higher after the transaction, and vice versa."
   ]
  },
  {
   "cell_type": "code",
   "execution_count": 9,
   "metadata": {},
   "outputs": [
    {
     "data": {
      "text/html": [
       "<div>\n",
       "<style scoped>\n",
       "    .dataframe tbody tr th:only-of-type {\n",
       "        vertical-align: middle;\n",
       "    }\n",
       "\n",
       "    .dataframe tbody tr th {\n",
       "        vertical-align: top;\n",
       "    }\n",
       "\n",
       "    .dataframe thead th {\n",
       "        text-align: right;\n",
       "    }\n",
       "</style>\n",
       "<table border=\"1\" class=\"dataframe\">\n",
       "  <thead>\n",
       "    <tr style=\"text-align: right;\">\n",
       "      <th></th>\n",
       "      <th>step</th>\n",
       "      <th>type</th>\n",
       "      <th>amount</th>\n",
       "      <th>nameOrig</th>\n",
       "      <th>oldbalanceOrig</th>\n",
       "      <th>newbalanceOrig</th>\n",
       "      <th>nameDest</th>\n",
       "      <th>oldbalanceDest</th>\n",
       "      <th>newbalanceDest</th>\n",
       "      <th>isFraud</th>\n",
       "      <th>isFlaggedFraud</th>\n",
       "      <th>merchant</th>\n",
       "      <th>balancediffOrig</th>\n",
       "      <th>balancediffDest</th>\n",
       "    </tr>\n",
       "  </thead>\n",
       "  <tbody>\n",
       "    <tr>\n",
       "      <th>0</th>\n",
       "      <td>1</td>\n",
       "      <td>PAYMENT</td>\n",
       "      <td>9839.64</td>\n",
       "      <td>C1231006815</td>\n",
       "      <td>170136.0</td>\n",
       "      <td>160296.36</td>\n",
       "      <td>M1979787155</td>\n",
       "      <td>0.0</td>\n",
       "      <td>0.0</td>\n",
       "      <td>0</td>\n",
       "      <td>0</td>\n",
       "      <td>True</td>\n",
       "      <td>-9839.64</td>\n",
       "      <td>0.0</td>\n",
       "    </tr>\n",
       "    <tr>\n",
       "      <th>1</th>\n",
       "      <td>1</td>\n",
       "      <td>PAYMENT</td>\n",
       "      <td>1864.28</td>\n",
       "      <td>C1666544295</td>\n",
       "      <td>21249.0</td>\n",
       "      <td>19384.72</td>\n",
       "      <td>M2044282225</td>\n",
       "      <td>0.0</td>\n",
       "      <td>0.0</td>\n",
       "      <td>0</td>\n",
       "      <td>0</td>\n",
       "      <td>True</td>\n",
       "      <td>-1864.28</td>\n",
       "      <td>0.0</td>\n",
       "    </tr>\n",
       "    <tr>\n",
       "      <th>2</th>\n",
       "      <td>1</td>\n",
       "      <td>TRANSFER</td>\n",
       "      <td>181.00</td>\n",
       "      <td>C1305486145</td>\n",
       "      <td>181.0</td>\n",
       "      <td>0.00</td>\n",
       "      <td>C553264065</td>\n",
       "      <td>0.0</td>\n",
       "      <td>0.0</td>\n",
       "      <td>1</td>\n",
       "      <td>0</td>\n",
       "      <td>False</td>\n",
       "      <td>-181.00</td>\n",
       "      <td>0.0</td>\n",
       "    </tr>\n",
       "    <tr>\n",
       "      <th>3</th>\n",
       "      <td>1</td>\n",
       "      <td>CASH_OUT</td>\n",
       "      <td>181.00</td>\n",
       "      <td>C840083671</td>\n",
       "      <td>181.0</td>\n",
       "      <td>0.00</td>\n",
       "      <td>C38997010</td>\n",
       "      <td>21182.0</td>\n",
       "      <td>0.0</td>\n",
       "      <td>1</td>\n",
       "      <td>0</td>\n",
       "      <td>False</td>\n",
       "      <td>-181.00</td>\n",
       "      <td>-21182.0</td>\n",
       "    </tr>\n",
       "    <tr>\n",
       "      <th>4</th>\n",
       "      <td>1</td>\n",
       "      <td>PAYMENT</td>\n",
       "      <td>11668.14</td>\n",
       "      <td>C2048537720</td>\n",
       "      <td>41554.0</td>\n",
       "      <td>29885.86</td>\n",
       "      <td>M1230701703</td>\n",
       "      <td>0.0</td>\n",
       "      <td>0.0</td>\n",
       "      <td>0</td>\n",
       "      <td>0</td>\n",
       "      <td>True</td>\n",
       "      <td>-11668.14</td>\n",
       "      <td>0.0</td>\n",
       "    </tr>\n",
       "  </tbody>\n",
       "</table>\n",
       "</div>"
      ],
      "text/plain": [
       "   step      type    amount     nameOrig  oldbalanceOrig  newbalanceOrig  \\\n",
       "0     1   PAYMENT   9839.64  C1231006815        170136.0       160296.36   \n",
       "1     1   PAYMENT   1864.28  C1666544295         21249.0        19384.72   \n",
       "2     1  TRANSFER    181.00  C1305486145           181.0            0.00   \n",
       "3     1  CASH_OUT    181.00   C840083671           181.0            0.00   \n",
       "4     1   PAYMENT  11668.14  C2048537720         41554.0        29885.86   \n",
       "\n",
       "      nameDest  oldbalanceDest  newbalanceDest  isFraud  isFlaggedFraud  \\\n",
       "0  M1979787155             0.0             0.0        0               0   \n",
       "1  M2044282225             0.0             0.0        0               0   \n",
       "2   C553264065             0.0             0.0        1               0   \n",
       "3    C38997010         21182.0             0.0        1               0   \n",
       "4  M1230701703             0.0             0.0        0               0   \n",
       "\n",
       "   merchant  balancediffOrig  balancediffDest  \n",
       "0      True         -9839.64              0.0  \n",
       "1      True         -1864.28              0.0  \n",
       "2     False          -181.00              0.0  \n",
       "3     False          -181.00         -21182.0  \n",
       "4      True        -11668.14              0.0  "
      ]
     },
     "execution_count": 9,
     "metadata": {},
     "output_type": "execute_result"
    }
   ],
   "source": [
    "df1['balancediffOrig'] = df1['newbalanceOrig'] - df1['oldbalanceOrig']\n",
    "df1['balancediffDest'] = df1['newbalanceDest'] - df1['oldbalanceDest']\n",
    "\n",
    "df1.head()"
   ]
  },
  {
   "cell_type": "markdown",
   "metadata": {},
   "source": [
    "In the box plots below, we can see that between the fraudulent and non-fraudulent data, **balancediffOrig** shows very contrasting distributions. For **isFraud==1**, the values tend to be much more negative, implying that these transactions are indeed moving large amounts of funds out of the originating account. This feature could end up having significant impact on the model predictions."
   ]
  },
  {
   "cell_type": "code",
   "execution_count": 10,
   "metadata": {},
   "outputs": [
    {
     "data": {
      "text/plain": [
       "<AxesSubplot:xlabel='isFraud', ylabel='balancediffOrig'>"
      ]
     },
     "execution_count": 10,
     "metadata": {},
     "output_type": "execute_result"
    },
    {
     "data": {
      "image/png": "[encoded data removed]",
      "text/plain": [
       "<Figure size 432x288 with 1 Axes>"
      ]
     },
     "metadata": {
      "needs_background": "light"
     },
     "output_type": "display_data"
    }
   ],
   "source": [
    "sns.boxplot(x=\"isFraud\", y=\"balancediffOrig\", data=df1,showfliers=False)"
   ]
  },
  {
   "cell_type": "markdown",
   "metadata": {},
   "source": [
    "The difference is less stark with balancediffDest, and the difference values also tend to be more positive, indicating that the transactions tend to move funds into the destination account."
   ]
  },
  {
   "cell_type": "code",
   "execution_count": 11,
   "metadata": {},
   "outputs": [
    {
     "data": {
      "text/plain": [
       "<AxesSubplot:xlabel='isFraud', ylabel='balancediffDest'>"
      ]
     },
     "execution_count": 11,
     "metadata": {},
     "output_type": "execute_result"
    },
    {
     "data": {
      "image/png": "[encoded data removed]",
      "text/plain": [
       "<Figure size 432x288 with 1 Axes>"
      ]
     },
     "metadata": {
      "needs_background": "light"
     },
     "output_type": "display_data"
    }
   ],
   "source": [
    "sns.boxplot(x=\"isFraud\", y=\"balancediffDest\", data=df1, showfliers=False)"
   ]
  },
  {
   "cell_type": "markdown",
   "metadata": {},
   "source": [
    "A commonality in these last two plots was that the balance difference values for isFraud==1 had more variance and spread. This may be because our sample size for fraudulent data is much smaller. By nature, smaller samples are likely to exhibit higher variability."
   ]
  },
  {
   "cell_type": "markdown",
   "metadata": {},
   "source": [
    "#### Preprocessing\n",
    "We will now prepare the data for model input. Subsetting the dataframe to only select the variables we will use as model features, as well as the label for classification."
   ]
  },
  {
   "cell_type": "code",
   "execution_count": 12,
   "metadata": {},
   "outputs": [],
   "source": [
    "features = ['step',\n",
    "            'type',\n",
    "            'amount',\n",
    "            'oldbalanceOrig',\n",
    "            'newbalanceOrig',\n",
    "            'oldbalanceDest',\n",
    "            'newbalanceDest',\n",
    "            'balancediffOrig',\n",
    "            'balancediffDest',\n",
    "            'merchant']\n",
    "\n",
    "label = ['isFraud']"
   ]
  },
  {
   "cell_type": "code",
   "execution_count": 13,
   "metadata": {},
   "outputs": [],
   "source": [
    "X = df1[features]\n",
    "y = df1[label]"
   ]
  },
  {
   "cell_type": "markdown",
   "metadata": {},
   "source": [
    "#### One-Hot Encoding\n",
    "**type** is a categorical variable, which will need to be encoded as separate boolean dummy variables for each unique value of account type to be used by the model."
   ]
  },
  {
   "cell_type": "markdown",
   "metadata": {},
   "source": [
    "#### Before Encoding"
   ]
  },
  {
   "cell_type": "code",
   "execution_count": 14,
   "metadata": {},
   "outputs": [
    {
     "data": {
      "text/html": [
       "<div>\n",
       "<style scoped>\n",
       "    .dataframe tbody tr th:only-of-type {\n",
       "        vertical-align: middle;\n",
       "    }\n",
       "\n",
       "    .dataframe tbody tr th {\n",
       "        vertical-align: top;\n",
       "    }\n",
       "\n",
       "    .dataframe thead th {\n",
       "        text-align: right;\n",
       "    }\n",
       "</style>\n",
       "<table border=\"1\" class=\"dataframe\">\n",
       "  <thead>\n",
       "    <tr style=\"text-align: right;\">\n",
       "      <th></th>\n",
       "      <th>step</th>\n",
       "      <th>type</th>\n",
       "      <th>amount</th>\n",
       "      <th>oldbalanceOrig</th>\n",
       "      <th>newbalanceOrig</th>\n",
       "      <th>oldbalanceDest</th>\n",
       "      <th>newbalanceDest</th>\n",
       "      <th>balancediffOrig</th>\n",
       "      <th>balancediffDest</th>\n",
       "      <th>merchant</th>\n",
       "    </tr>\n",
       "  </thead>\n",
       "  <tbody>\n",
       "    <tr>\n",
       "      <th>0</th>\n",
       "      <td>1</td>\n",
       "      <td>PAYMENT</td>\n",
       "      <td>9839.64</td>\n",
       "      <td>170136.0</td>\n",
       "      <td>160296.36</td>\n",
       "      <td>0.0</td>\n",
       "      <td>0.0</td>\n",
       "      <td>-9839.64</td>\n",
       "      <td>0.0</td>\n",
       "      <td>True</td>\n",
       "    </tr>\n",
       "    <tr>\n",
       "      <th>1</th>\n",
       "      <td>1</td>\n",
       "      <td>PAYMENT</td>\n",
       "      <td>1864.28</td>\n",
       "      <td>21249.0</td>\n",
       "      <td>19384.72</td>\n",
       "      <td>0.0</td>\n",
       "      <td>0.0</td>\n",
       "      <td>-1864.28</td>\n",
       "      <td>0.0</td>\n",
       "      <td>True</td>\n",
       "    </tr>\n",
       "    <tr>\n",
       "      <th>2</th>\n",
       "      <td>1</td>\n",
       "      <td>TRANSFER</td>\n",
       "      <td>181.00</td>\n",
       "      <td>181.0</td>\n",
       "      <td>0.00</td>\n",
       "      <td>0.0</td>\n",
       "      <td>0.0</td>\n",
       "      <td>-181.00</td>\n",
       "      <td>0.0</td>\n",
       "      <td>False</td>\n",
       "    </tr>\n",
       "    <tr>\n",
       "      <th>3</th>\n",
       "      <td>1</td>\n",
       "      <td>CASH_OUT</td>\n",
       "      <td>181.00</td>\n",
       "      <td>181.0</td>\n",
       "      <td>0.00</td>\n",
       "      <td>21182.0</td>\n",
       "      <td>0.0</td>\n",
       "      <td>-181.00</td>\n",
       "      <td>-21182.0</td>\n",
       "      <td>False</td>\n",
       "    </tr>\n",
       "    <tr>\n",
       "      <th>4</th>\n",
       "      <td>1</td>\n",
       "      <td>PAYMENT</td>\n",
       "      <td>11668.14</td>\n",
       "      <td>41554.0</td>\n",
       "      <td>29885.86</td>\n",
       "      <td>0.0</td>\n",
       "      <td>0.0</td>\n",
       "      <td>-11668.14</td>\n",
       "      <td>0.0</td>\n",
       "      <td>True</td>\n",
       "    </tr>\n",
       "  </tbody>\n",
       "</table>\n",
       "</div>"
      ],
      "text/plain": [
       "   step      type    amount  oldbalanceOrig  newbalanceOrig  oldbalanceDest  \\\n",
       "0     1   PAYMENT   9839.64        170136.0       160296.36             0.0   \n",
       "1     1   PAYMENT   1864.28         21249.0        19384.72             0.0   \n",
       "2     1  TRANSFER    181.00           181.0            0.00             0.0   \n",
       "3     1  CASH_OUT    181.00           181.0            0.00         21182.0   \n",
       "4     1   PAYMENT  11668.14         41554.0        29885.86             0.0   \n",
       "\n",
       "   newbalanceDest  balancediffOrig  balancediffDest  merchant  \n",
       "0             0.0         -9839.64              0.0      True  \n",
       "1             0.0         -1864.28              0.0      True  \n",
       "2             0.0          -181.00              0.0     False  \n",
       "3             0.0          -181.00         -21182.0     False  \n",
       "4             0.0        -11668.14              0.0      True  "
      ]
     },
     "execution_count": 14,
     "metadata": {},
     "output_type": "execute_result"
    }
   ],
   "source": [
    "X.head()"
   ]
  },
  {
   "cell_type": "markdown",
   "metadata": {},
   "source": [
    "#### After Encoding"
   ]
  },
  {
   "cell_type": "code",
   "execution_count": 15,
   "metadata": {},
   "outputs": [
    {
     "data": {
      "text/html": [
       "<div>\n",
       "<style scoped>\n",
       "    .dataframe tbody tr th:only-of-type {\n",
       "        vertical-align: middle;\n",
       "    }\n",
       "\n",
       "    .dataframe tbody tr th {\n",
       "        vertical-align: top;\n",
       "    }\n",
       "\n",
       "    .dataframe thead th {\n",
       "        text-align: right;\n",
       "    }\n",
       "</style>\n",
       "<table border=\"1\" class=\"dataframe\">\n",
       "  <thead>\n",
       "    <tr style=\"text-align: right;\">\n",
       "      <th></th>\n",
       "      <th>step</th>\n",
       "      <th>amount</th>\n",
       "      <th>oldbalanceOrig</th>\n",
       "      <th>newbalanceOrig</th>\n",
       "      <th>oldbalanceDest</th>\n",
       "      <th>newbalanceDest</th>\n",
       "      <th>balancediffOrig</th>\n",
       "      <th>balancediffDest</th>\n",
       "      <th>merchant</th>\n",
       "      <th>type_CASH_IN</th>\n",
       "      <th>type_CASH_OUT</th>\n",
       "      <th>type_DEBIT</th>\n",
       "      <th>type_PAYMENT</th>\n",
       "      <th>type_TRANSFER</th>\n",
       "    </tr>\n",
       "  </thead>\n",
       "  <tbody>\n",
       "    <tr>\n",
       "      <th>0</th>\n",
       "      <td>1</td>\n",
       "      <td>9839.64</td>\n",
       "      <td>170136.0</td>\n",
       "      <td>160296.36</td>\n",
       "      <td>0.0</td>\n",
       "      <td>0.0</td>\n",
       "      <td>-9839.64</td>\n",
       "      <td>0.0</td>\n",
       "      <td>True</td>\n",
       "      <td>0</td>\n",
       "      <td>0</td>\n",
       "      <td>0</td>\n",
       "      <td>1</td>\n",
       "      <td>0</td>\n",
       "    </tr>\n",
       "    <tr>\n",
       "      <th>1</th>\n",
       "      <td>1</td>\n",
       "      <td>1864.28</td>\n",
       "      <td>21249.0</td>\n",
       "      <td>19384.72</td>\n",
       "      <td>0.0</td>\n",
       "      <td>0.0</td>\n",
       "      <td>-1864.28</td>\n",
       "      <td>0.0</td>\n",
       "      <td>True</td>\n",
       "      <td>0</td>\n",
       "      <td>0</td>\n",
       "      <td>0</td>\n",
       "      <td>1</td>\n",
       "      <td>0</td>\n",
       "    </tr>\n",
       "    <tr>\n",
       "      <th>2</th>\n",
       "      <td>1</td>\n",
       "      <td>181.00</td>\n",
       "      <td>181.0</td>\n",
       "      <td>0.00</td>\n",
       "      <td>0.0</td>\n",
       "      <td>0.0</td>\n",
       "      <td>-181.00</td>\n",
       "      <td>0.0</td>\n",
       "      <td>False</td>\n",
       "      <td>0</td>\n",
       "      <td>0</td>\n",
       "      <td>0</td>\n",
       "      <td>0</td>\n",
       "      <td>1</td>\n",
       "    </tr>\n",
       "    <tr>\n",
       "      <th>3</th>\n",
       "      <td>1</td>\n",
       "      <td>181.00</td>\n",
       "      <td>181.0</td>\n",
       "      <td>0.00</td>\n",
       "      <td>21182.0</td>\n",
       "      <td>0.0</td>\n",
       "      <td>-181.00</td>\n",
       "      <td>-21182.0</td>\n",
       "      <td>False</td>\n",
       "      <td>0</td>\n",
       "      <td>1</td>\n",
       "      <td>0</td>\n",
       "      <td>0</td>\n",
       "      <td>0</td>\n",
       "    </tr>\n",
       "    <tr>\n",
       "      <th>4</th>\n",
       "      <td>1</td>\n",
       "      <td>11668.14</td>\n",
       "      <td>41554.0</td>\n",
       "      <td>29885.86</td>\n",
       "      <td>0.0</td>\n",
       "      <td>0.0</td>\n",
       "      <td>-11668.14</td>\n",
       "      <td>0.0</td>\n",
       "      <td>True</td>\n",
       "      <td>0</td>\n",
       "      <td>0</td>\n",
       "      <td>0</td>\n",
       "      <td>1</td>\n",
       "      <td>0</td>\n",
       "    </tr>\n",
       "  </tbody>\n",
       "</table>\n",
       "</div>"
      ],
      "text/plain": [
       "   step    amount  oldbalanceOrig  newbalanceOrig  oldbalanceDest  \\\n",
       "0     1   9839.64        170136.0       160296.36             0.0   \n",
       "1     1   1864.28         21249.0        19384.72             0.0   \n",
       "2     1    181.00           181.0            0.00             0.0   \n",
       "3     1    181.00           181.0            0.00         21182.0   \n",
       "4     1  11668.14         41554.0        29885.86             0.0   \n",
       "\n",
       "   newbalanceDest  balancediffOrig  balancediffDest  merchant  type_CASH_IN  \\\n",
       "0             0.0         -9839.64              0.0      True             0   \n",
       "1             0.0         -1864.28              0.0      True             0   \n",
       "2             0.0          -181.00              0.0     False             0   \n",
       "3             0.0          -181.00         -21182.0     False             0   \n",
       "4             0.0        -11668.14              0.0      True             0   \n",
       "\n",
       "   type_CASH_OUT  type_DEBIT  type_PAYMENT  type_TRANSFER  \n",
       "0              0           0             1              0  \n",
       "1              0           0             1              0  \n",
       "2              0           0             0              1  \n",
       "3              1           0             0              0  \n",
       "4              0           0             1              0  "
      ]
     },
     "execution_count": 15,
     "metadata": {},
     "output_type": "execute_result"
    }
   ],
   "source": [
    "X = X.join(pd.get_dummies(X[['type']], prefix='type')).drop(['type'], axis=1)\n",
    "\n",
    "X.head()"
   ]
  },
  {
   "cell_type": "markdown",
   "metadata": {},
   "source": [
    "#### Modeling\n",
    "We will first split the data into training and test sets, with a 70/30 split. This is done to measure and avoid possible overfitting, an issue in which the model is too specific to the dataset it trains on, and is not as generalizable to out-of-sample data. By measuring the model's performance on separate data, we have a more fair assessment of the model's ability to extrapolate its predictions to new or unseen information."
   ]
  },
  {
   "cell_type": "code",
   "execution_count": 16,
   "metadata": {},
   "outputs": [
    {
     "name": "stdout",
     "output_type": "stream",
     "text": [
      "(734002, 14)\n",
      "(734002, 1)\n",
      "(314573, 14)\n",
      "(314573, 1)\n"
     ]
    }
   ],
   "source": [
    "X_train, X_test, y_train, y_test = train_test_split(X, y, test_size=0.3, random_state=1)\n",
    "print(X_train.shape)\n",
    "print(y_train.shape)\n",
    "print(X_test.shape)\n",
    "print(y_test.shape)"
   ]
  },
  {
   "cell_type": "markdown",
   "metadata": {},
   "source": [
    "#### Decision Tree\n",
    "At a high level, a decision tree model works by sequentially splitting the dataset along value thresholds of the predictor variables. The splits are determined by a criteria that quantifies how different two sets of data are (by default, Gini impurity). For example, if fraudulent transactions most frequently occur with amounts over 1,000,000, while non-fraudulent transactions are more frequently of lower amounts, our decision tree is likely to use amount as a node that splits our dataset into transactions of those over 1,000,000 and those that are less. The decision tree then considers each of those two groups and attempts to perform another split on one of the other features, and so on, until the split groups have zero impurity (all the members of each group have the same classification). While in actuality the data does not contain such explicit separations, this is the general logic used by the algorithm. In a basic sense, it can be thought of as categorizing the data based on its features. It repeats the process iteratively on each branch until an end (leaf) is reached, hence the \"tree\".\n",
    "\n",
    "An advantage of using decision trees is that the results are highly interpretable and easy to visualize. This means we will be able to see exactly how the decision tree constructs itself, and what features it prioritizes in its construction. It will show us how the data is being split and by what values for each feature will lead to a certain classification. The same cannot be said for certain \"black box\" methods of modeling, such as neural networks—which despite their potential for high performance, are often too complex to be intuitively understood and explained, even by the model developer.\n",
    "\n",
    "Let's implement the decision tree and measure its performance."
   ]
  },
  {
   "cell_type": "code",
   "execution_count": 17,
   "metadata": {},
   "outputs": [],
   "source": [
    "dt_clf = DecisionTreeClassifier(random_state=10)\n",
    "\n",
    "dt_clf = dt_clf.fit(X_train,y_train)\n",
    "\n",
    "y_pred = dt_clf.predict(X_test)"
   ]
  },
  {
   "cell_type": "markdown",
   "metadata": {},
   "source": [
    "Now that the model has been fit, we can create predictions for the test set and see how they compare to the actual data. A sample of the predictions can be seen below."
   ]
  },
  {
   "cell_type": "code",
   "execution_count": 18,
   "metadata": {},
   "outputs": [
    {
     "data": {
      "text/html": [
       "<div>\n",
       "<style scoped>\n",
       "    .dataframe tbody tr th:only-of-type {\n",
       "        vertical-align: middle;\n",
       "    }\n",
       "\n",
       "    .dataframe tbody tr th {\n",
       "        vertical-align: top;\n",
       "    }\n",
       "\n",
       "    .dataframe thead th {\n",
       "        text-align: right;\n",
       "    }\n",
       "</style>\n",
       "<table border=\"1\" class=\"dataframe\">\n",
       "  <thead>\n",
       "    <tr style=\"text-align: right;\">\n",
       "      <th></th>\n",
       "      <th>actual</th>\n",
       "      <th>predicted</th>\n",
       "    </tr>\n",
       "  </thead>\n",
       "  <tbody>\n",
       "    <tr>\n",
       "      <th>464597</th>\n",
       "      <td>1</td>\n",
       "      <td>1</td>\n",
       "    </tr>\n",
       "    <tr>\n",
       "      <th>1030321</th>\n",
       "      <td>1</td>\n",
       "      <td>1</td>\n",
       "    </tr>\n",
       "    <tr>\n",
       "      <th>985996</th>\n",
       "      <td>1</td>\n",
       "      <td>1</td>\n",
       "    </tr>\n",
       "    <tr>\n",
       "      <th>1030469</th>\n",
       "      <td>1</td>\n",
       "      <td>1</td>\n",
       "    </tr>\n",
       "    <tr>\n",
       "      <th>1030428</th>\n",
       "      <td>1</td>\n",
       "      <td>1</td>\n",
       "    </tr>\n",
       "    <tr>\n",
       "      <th>...</th>\n",
       "      <td>...</td>\n",
       "      <td>...</td>\n",
       "    </tr>\n",
       "    <tr>\n",
       "      <th>1030698</th>\n",
       "      <td>1</td>\n",
       "      <td>1</td>\n",
       "    </tr>\n",
       "    <tr>\n",
       "      <th>576348</th>\n",
       "      <td>1</td>\n",
       "      <td>1</td>\n",
       "    </tr>\n",
       "    <tr>\n",
       "      <th>1030702</th>\n",
       "      <td>1</td>\n",
       "      <td>1</td>\n",
       "    </tr>\n",
       "    <tr>\n",
       "      <th>1044988</th>\n",
       "      <td>1</td>\n",
       "      <td>0</td>\n",
       "    </tr>\n",
       "    <tr>\n",
       "      <th>1030261</th>\n",
       "      <td>1</td>\n",
       "      <td>1</td>\n",
       "    </tr>\n",
       "  </tbody>\n",
       "</table>\n",
       "<p>327 rows × 2 columns</p>\n",
       "</div>"
      ],
      "text/plain": [
       "         actual  predicted\n",
       "464597        1          1\n",
       "1030321       1          1\n",
       "985996        1          1\n",
       "1030469       1          1\n",
       "1030428       1          1\n",
       "...         ...        ...\n",
       "1030698       1          1\n",
       "576348        1          1\n",
       "1030702       1          1\n",
       "1044988       1          0\n",
       "1030261       1          1\n",
       "\n",
       "[327 rows x 2 columns]"
      ]
     },
     "execution_count": 18,
     "metadata": {},
     "output_type": "execute_result"
    }
   ],
   "source": [
    "result = pd.DataFrame({'actual':y_test['isFraud'], 'predicted':y_pred})\n",
    "result[result['actual']==1]"
   ]
  },
  {
   "cell_type": "markdown",
   "metadata": {},
   "source": [
    "#### Accuracy of the Model\n",
    "The **sklearn.metrics.classification_report** function gives us a nice printout for assessing performance, including precision, recall, and f1-score for each of the classes independently. The separation for the classes is important especially when dealing with imbalanced data, as we are now. All of these metrics range from 0 to 1, higher numbers representing better accuracy.\n",
    "* **Precision:** The proportion of values selected by the model that should be selected. Precision is penalized by having more false positives.\n",
    "* **Recall:** The proportion of values that should be selected, that are actually selected by the model. Recall is penalized by having more false negatives.\n",
    "* **F1 score:** The harmonic mean of precision and recall.\n",
    "\n",
    "Another measure we can use is Area Under Curve (AUC), which refers to the area under the ROC curve, which is a plot of the true positive rate against the false positive rate. AUC also ranges from 0 to 1 and is frequently used as a quick way to compare model performance."
   ]
  },
  {
   "cell_type": "code",
   "execution_count": 19,
   "metadata": {},
   "outputs": [
    {
     "name": "stdout",
     "output_type": "stream",
     "text": [
      "              precision    recall  f1-score   support\n",
      "\n",
      "           0       1.00      1.00      1.00    314246\n",
      "           1       0.82      0.82      0.82       327\n",
      "\n",
      "    accuracy                           1.00    314573\n",
      "   macro avg       0.91      0.91      0.91    314573\n",
      "weighted avg       1.00      1.00      1.00    314573\n",
      "\n",
      "AUC: 0.9096952394431982\n"
     ]
    }
   ],
   "source": [
    "print(metrics.classification_report(y_test, y_pred))\n",
    "\n",
    "fpr, tpr, thresholds = metrics.roc_curve(y_test, y_pred)\n",
    "print('AUC:', metrics.auc(fpr, tpr))"
   ]
  },
  {
   "cell_type": "markdown",
   "metadata": {},
   "source": [
    "As mentioned above, in dealing with imbalanced data like this, overall accuracy is not a particularly useful metric. However, we can see the metrics for the **isFraud==1** class by itself. A recall of 0.82 on this class essentially tells us that we correctly predicted 82% of the truly fraudulent data."
   ]
  },
  {
   "cell_type": "markdown",
   "metadata": {},
   "source": [
    "#### Visualizing the Decision Tree\n",
    "Sklearn also provides a function for creating a visual output for the decision tree model. For brevity, only the first couple of levels are printed here; the entire tree can be much larger. This output illustrates the nature of the algorithm and particularly the exact set of conditions required to predict one class or the other."
   ]
  },
  {
   "cell_type": "code",
   "execution_count": 20,
   "metadata": {},
   "outputs": [
    {
     "data": {
      "image/png": "[encoded data removed]",
      "text/plain": [
       "<Figure size 1224x720 with 1 Axes>"
      ]
     },
     "metadata": {
      "needs_background": "light"
     },
     "output_type": "display_data"
    }
   ],
   "source": [
    "from sklearn.tree import plot_tree\n",
    "fig = plt.figure(figsize=(17,10))\n",
    "_ = plot_tree(dt_clf, max_depth=2, feature_names=list(X_train.columns), filled=True, fontsize=12)"
   ]
  },
  {
   "cell_type": "markdown",
   "metadata": {},
   "source": [
    "#### Features Importance\n",
    "In order to objectively determine each features' influence on the predictions, we can calculate, summed up for each feature, the amount by which it reduces impurity in each node it represents. Sklearn provides these values in the **feature_importances_** attribute of **DecisionTreeClassifier**."
   ]
  },
  {
   "cell_type": "code",
   "execution_count": 21,
   "metadata": {},
   "outputs": [
    {
     "data": {
      "text/html": [
       "<div>\n",
       "<style scoped>\n",
       "    .dataframe tbody tr th:only-of-type {\n",
       "        vertical-align: middle;\n",
       "    }\n",
       "\n",
       "    .dataframe tbody tr th {\n",
       "        vertical-align: top;\n",
       "    }\n",
       "\n",
       "    .dataframe thead th {\n",
       "        text-align: right;\n",
       "    }\n",
       "</style>\n",
       "<table border=\"1\" class=\"dataframe\">\n",
       "  <thead>\n",
       "    <tr style=\"text-align: right;\">\n",
       "      <th></th>\n",
       "      <th>features</th>\n",
       "      <th>importance</th>\n",
       "    </tr>\n",
       "  </thead>\n",
       "  <tbody>\n",
       "    <tr>\n",
       "      <th>0</th>\n",
       "      <td>step</td>\n",
       "      <td>0.379542</td>\n",
       "    </tr>\n",
       "    <tr>\n",
       "      <th>6</th>\n",
       "      <td>balancediffOrig</td>\n",
       "      <td>0.283205</td>\n",
       "    </tr>\n",
       "    <tr>\n",
       "      <th>1</th>\n",
       "      <td>amount</td>\n",
       "      <td>0.088257</td>\n",
       "    </tr>\n",
       "    <tr>\n",
       "      <th>7</th>\n",
       "      <td>balancediffDest</td>\n",
       "      <td>0.067682</td>\n",
       "    </tr>\n",
       "    <tr>\n",
       "      <th>5</th>\n",
       "      <td>newbalanceDest</td>\n",
       "      <td>0.058766</td>\n",
       "    </tr>\n",
       "    <tr>\n",
       "      <th>2</th>\n",
       "      <td>oldbalanceOrig</td>\n",
       "      <td>0.041475</td>\n",
       "    </tr>\n",
       "    <tr>\n",
       "      <th>13</th>\n",
       "      <td>type_TRANSFER</td>\n",
       "      <td>0.034974</td>\n",
       "    </tr>\n",
       "    <tr>\n",
       "      <th>4</th>\n",
       "      <td>oldbalanceDest</td>\n",
       "      <td>0.021730</td>\n",
       "    </tr>\n",
       "    <tr>\n",
       "      <th>3</th>\n",
       "      <td>newbalanceOrig</td>\n",
       "      <td>0.013532</td>\n",
       "    </tr>\n",
       "    <tr>\n",
       "      <th>12</th>\n",
       "      <td>type_PAYMENT</td>\n",
       "      <td>0.010828</td>\n",
       "    </tr>\n",
       "    <tr>\n",
       "      <th>10</th>\n",
       "      <td>type_CASH_OUT</td>\n",
       "      <td>0.000010</td>\n",
       "    </tr>\n",
       "    <tr>\n",
       "      <th>8</th>\n",
       "      <td>merchant</td>\n",
       "      <td>0.000000</td>\n",
       "    </tr>\n",
       "    <tr>\n",
       "      <th>9</th>\n",
       "      <td>type_CASH_IN</td>\n",
       "      <td>0.000000</td>\n",
       "    </tr>\n",
       "    <tr>\n",
       "      <th>11</th>\n",
       "      <td>type_DEBIT</td>\n",
       "      <td>0.000000</td>\n",
       "    </tr>\n",
       "  </tbody>\n",
       "</table>\n",
       "</div>"
      ],
      "text/plain": [
       "           features  importance\n",
       "0              step    0.379542\n",
       "6   balancediffOrig    0.283205\n",
       "1            amount    0.088257\n",
       "7   balancediffDest    0.067682\n",
       "5    newbalanceDest    0.058766\n",
       "2    oldbalanceOrig    0.041475\n",
       "13    type_TRANSFER    0.034974\n",
       "4    oldbalanceDest    0.021730\n",
       "3    newbalanceOrig    0.013532\n",
       "12     type_PAYMENT    0.010828\n",
       "10    type_CASH_OUT    0.000010\n",
       "8          merchant    0.000000\n",
       "9      type_CASH_IN    0.000000\n",
       "11       type_DEBIT    0.000000"
      ]
     },
     "execution_count": 21,
     "metadata": {},
     "output_type": "execute_result"
    }
   ],
   "source": [
    "fi = pd.DataFrame({'features':X_train.columns,'importance':dt_clf.feature_importances_}).sort_values(by=['importance'], ascending=False)\n",
    "fi"
   ]
  },
  {
   "cell_type": "code",
   "execution_count": 22,
   "metadata": {},
   "outputs": [
    {
     "data": {
      "text/plain": [
       "<AxesSubplot:xlabel='importance', ylabel='features'>"
      ]
     },
     "execution_count": 22,
     "metadata": {},
     "output_type": "execute_result"
    },
    {
     "data": {
      "image/png": "[encoded data removed]",
      "text/plain": [
       "<Figure size 432x288 with 1 Axes>"
      ]
     },
     "metadata": {
      "needs_background": "light"
     },
     "output_type": "display_data"
    }
   ],
   "source": [
    "sns.barplot(x=\"importance\", y=\"features\", data=fi)"
   ]
  },
  {
   "cell_type": "markdown",
   "metadata": {},
   "source": [
    "This tells us that the most influential features to the model are balance changes and newbalanceDest. Whether or not the transaction is a transfer is also important. This confirms our earlier supposition based on the data documentation that fraudulent transactions are often characterized by transfers of large amounts."
   ]
  },
  {
   "cell_type": "markdown",
   "metadata": {},
   "source": [
    "#### Saving the Model"
   ]
  },
  {
   "cell_type": "code",
   "execution_count": 23,
   "metadata": {},
   "outputs": [
    {
     "data": {
      "text/plain": [
       "['fraud_detection_model.pkl']"
      ]
     },
     "execution_count": 23,
     "metadata": {},
     "output_type": "execute_result"
    }
   ],
   "source": [
    "import joblib\n",
    "filename = 'fraud_detection_model.pkl'\n",
    "joblib.dump(dt_clf, filename)"
   ]
  },
  {
   "cell_type": "code",
   "execution_count": null,
   "metadata": {},
   "outputs": [],
   "source": [
    "# To load the model for reuse\n",
    "# loaded_model = joblib.load(filename)\n",
    "# result = loaded_model.score(X_test, Y_test)\n",
    "# print(result)"
   ]
  }
 ],
 "metadata": {
  "kernelspec": {
   "display_name": "Python 3",
   "language": "python",
   "name": "python3"
  },
  "language_info": {
   "codemirror_mode": {
    "name": "ipython",
    "version": 3
   },
   "file_extension": ".py",
   "mimetype": "text/x-python",
   "name": "python",
   "nbconvert_exporter": "python",
   "pygments_lexer": "ipython3",
   "version": "3.8.5"
  }
 },
 "nbformat": 4,
 "nbformat_minor": 4
}
